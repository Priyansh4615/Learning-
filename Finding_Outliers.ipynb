{
  "nbformat": 4,
  "nbformat_minor": 0,
  "metadata": {
    "colab": {
      "name": "Finding Outliers.ipynb",
      "provenance": [],
      "authorship_tag": "ABX9TyMCNVkKdagQEUxKtGrG4gks",
      "include_colab_link": true
    },
    "kernelspec": {
      "name": "python3",
      "display_name": "Python 3"
    },
    "language_info": {
      "name": "python"
    }
  },
  "cells": [
    {
      "cell_type": "markdown",
      "metadata": {
        "id": "view-in-github",
        "colab_type": "text"
      },
      "source": [
        "<a href=\"https://colab.research.google.com/github/Priyansh4615/Learning-/blob/main/Finding_Outliers.ipynb\" target=\"_parent\"><img src=\"https://colab.research.google.com/assets/colab-badge.svg\" alt=\"Open In Colab\"/></a>"
      ]
    },
    {
      "cell_type": "markdown",
      "source": [
        "## **What is an Outlier?**"
      ],
      "metadata": {
        "id": "D0t6XP6ztzpv"
      }
    },
    {
      "cell_type": "markdown",
      "source": [
        "An outlier is a data point in the data set that is distant from all other observations. A data point that lies outside the overall distribution of the dataset."
      ],
      "metadata": {
        "id": "4trFbTd-t-R_"
      }
    },
    {
      "cell_type": "code",
      "execution_count": 1,
      "metadata": {
        "id": "NeAGXHEctrY2"
      },
      "outputs": [],
      "source": [
        "import numpy as np\n",
        "import matplotlib.pyplot as plt\n",
        "%matplotlib inline"
      ]
    },
    {
      "cell_type": "markdown",
      "source": [
        "## **What are the criteria to identify an outlier?**"
      ],
      "metadata": {
        "id": "635NHGiqu4ei"
      }
    },
    {
      "cell_type": "markdown",
      "source": [
        "1. Data point that falls outside of 1.5 times of an interquartile range above the 3rd quartile and below the 1st quartile.\n",
        "2. Data point that falls outside of 3 standard deviations , we can use a z-score and if the z score falls outside of 2 standard deviation."
      ],
      "metadata": {
        "id": "Fro0TUw9u_su"
      }
    },
    {
      "cell_type": "markdown",
      "source": [
        "## **What is the reason for an outlier to exists in a dataset?**"
      ],
      "metadata": {
        "id": "kX0CwoaY1B3e"
      }
    },
    {
      "cell_type": "markdown",
      "source": [
        "1. Variability in the data\n",
        "2. An experimental measurement error"
      ],
      "metadata": {
        "id": "Vr3KP-kg1ORD"
      }
    },
    {
      "cell_type": "markdown",
      "source": [
        "## **What are the impacts of having outliers in the dataset?**"
      ],
      "metadata": {
        "id": "LNen5Gf51emR"
      }
    },
    {
      "cell_type": "markdown",
      "source": [
        "1. It causes various problems during our statistical analysis.\n",
        "2. It may cause a significant impact on the mean and the standard deviation.\n"
      ],
      "metadata": {
        "id": "n_vzePzZ1m0P"
      }
    },
    {
      "cell_type": "markdown",
      "source": [
        "## **Various ways of finding Outliers**"
      ],
      "metadata": {
        "id": "G2nZrtSC6CrG"
      }
    },
    {
      "cell_type": "markdown",
      "source": [
        "1. Using scatter plots\n",
        "2. Boxplot\n",
        "3. using z score\n",
        "4. using the IQR interquartile range"
      ],
      "metadata": {
        "id": "yxv1EVmH6r47"
      }
    },
    {
      "cell_type": "code",
      "source": [
        "dataset = [11,10,13,145,12,19,18,17,9,8,15,17,12,14,155,56,20,21,11,12,13,14,15,16,17,18,19,14,15,18,19,20]"
      ],
      "metadata": {
        "id": "Gb417mNzubri"
      },
      "execution_count": 2,
      "outputs": []
    },
    {
      "cell_type": "markdown",
      "source": [
        "## **Detecting outlier using z score**"
      ],
      "metadata": {
        "id": "yMGp6HyG7nh-"
      }
    },
    {
      "cell_type": "markdown",
      "source": [
        "**using z scores**"
      ],
      "metadata": {
        "id": "CuF5wPw57soL"
      }
    },
    {
      "cell_type": "markdown",
      "source": [
        "**Formula for Z Score** = (Observation - Mean)/ Standard Deviation\n",
        "\n",
        "z = (X - μ)/σ"
      ],
      "metadata": {
        "id": "HIQw1vQM7y6l"
      }
    },
    {
      "cell_type": "code",
      "source": [
        "outliers = []\n",
        "\n",
        "def detect_outliers(data):\n",
        "\n",
        "  threshold = 3 #considering 3rd standard deviation\n",
        "  mean = np.mean(data)\n",
        "  std = np.std(data) \n",
        "\n",
        "  for i in data:\n",
        "    z_score = ( i - mean)/std\n",
        "    if np.abs(z_score) > threshold:\n",
        "      outliers.append(i)\n",
        "\n",
        "  return outliers"
      ],
      "metadata": {
        "id": "sahT3ayF7lnA"
      },
      "execution_count": 4,
      "outputs": []
    },
    {
      "cell_type": "code",
      "source": [
        "outliers_pt = detect_outliers(dataset)"
      ],
      "metadata": {
        "id": "JXW-mz6K-Eln"
      },
      "execution_count": 5,
      "outputs": []
    },
    {
      "cell_type": "code",
      "source": [
        "outliers_pt"
      ],
      "metadata": {
        "colab": {
          "base_uri": "https://localhost:8080/"
        },
        "id": "Sx5gyot9-NGO",
        "outputId": "c3ae4c07-d9f0-449b-94e9-e9cc0fb391e8"
      },
      "execution_count": 6,
      "outputs": [
        {
          "output_type": "execute_result",
          "data": {
            "text/plain": [
              "[145, 155]"
            ]
          },
          "metadata": {},
          "execution_count": 6
        }
      ]
    },
    {
      "cell_type": "markdown",
      "source": [
        "## **Interquantile Range**\n",
        "75% - 25% values in a dataset\n",
        "\n",
        "**Steps** \n",
        "1. Arrange the data in increasing order.\n",
        "2. Calculate first(q1) and third quartile(q3).\n",
        "3. Find interquartile range(q3 - q1).\n",
        "4. Find lower bound q1*1.5\n",
        "5. Find upper bound q3*1.5\n",
        "\n",
        "*Anything that lies outside of lower and upper bound is an outliers*"
      ],
      "metadata": {
        "id": "ydE14OTD-ajR"
      }
    },
    {
      "cell_type": "code",
      "source": [
        "# Perform all the steps of IQR\n",
        "sorted(dataset)"
      ],
      "metadata": {
        "colab": {
          "base_uri": "https://localhost:8080/"
        },
        "id": "BIhUKZqgBQEh",
        "outputId": "1f940c8a-8721-4711-b601-5f2457c4b5cc"
      },
      "execution_count": 7,
      "outputs": [
        {
          "output_type": "execute_result",
          "data": {
            "text/plain": [
              "[8,\n",
              " 9,\n",
              " 10,\n",
              " 11,\n",
              " 11,\n",
              " 12,\n",
              " 12,\n",
              " 12,\n",
              " 13,\n",
              " 13,\n",
              " 14,\n",
              " 14,\n",
              " 14,\n",
              " 15,\n",
              " 15,\n",
              " 15,\n",
              " 16,\n",
              " 17,\n",
              " 17,\n",
              " 17,\n",
              " 18,\n",
              " 18,\n",
              " 18,\n",
              " 19,\n",
              " 19,\n",
              " 19,\n",
              " 20,\n",
              " 20,\n",
              " 21,\n",
              " 56,\n",
              " 145,\n",
              " 155]"
            ]
          },
          "metadata": {},
          "execution_count": 7
        }
      ]
    },
    {
      "cell_type": "code",
      "source": [
        "quantile1 , quantile3 = np.percentile(dataset, [22,80])"
      ],
      "metadata": {
        "id": "JdAaSDhKBZub"
      },
      "execution_count": 14,
      "outputs": []
    },
    {
      "cell_type": "code",
      "source": [
        "print(quantile1 , quantile3)"
      ],
      "metadata": {
        "colab": {
          "base_uri": "https://localhost:8080/"
        },
        "id": "75uOtXZeBjyR",
        "outputId": "8d146f65-a143-4bcc-9ba7-1c991baf6557"
      },
      "execution_count": 15,
      "outputs": [
        {
          "output_type": "stream",
          "name": "stdout",
          "text": [
            "12.0 19.0\n"
          ]
        }
      ]
    },
    {
      "cell_type": "code",
      "source": [
        "# find the IQR\n",
        "\n",
        "iqr_value = quantile3 - quantile1\n",
        "print(iqr_value)"
      ],
      "metadata": {
        "colab": {
          "base_uri": "https://localhost:8080/"
        },
        "id": "mumRDpJfBnZY",
        "outputId": "7520fd02-86f0-49f1-f299-59e75090463f"
      },
      "execution_count": 16,
      "outputs": [
        {
          "output_type": "stream",
          "name": "stdout",
          "text": [
            "7.0\n"
          ]
        }
      ]
    },
    {
      "cell_type": "code",
      "source": [
        "# find the lower bound and upper bound value\n",
        "\n",
        "lower_bound_val = quantile1 - (1.5*iqr_value)\n",
        "upper_bound_val = quantile3 + (1.5*iqr_value)"
      ],
      "metadata": {
        "id": "bD1SVQN2ByWV"
      },
      "execution_count": 19,
      "outputs": []
    },
    {
      "cell_type": "code",
      "source": [
        "print(lower_bound_val, upper_bound_val)"
      ],
      "metadata": {
        "colab": {
          "base_uri": "https://localhost:8080/"
        },
        "id": "lyQd1-47CWPs",
        "outputId": "fc57ee2d-1ef0-41da-fe36-3452a087c78f"
      },
      "execution_count": 20,
      "outputs": [
        {
          "output_type": "stream",
          "name": "stdout",
          "text": [
            "1.5 29.5\n"
          ]
        }
      ]
    },
    {
      "cell_type": "code",
      "source": [
        ""
      ],
      "metadata": {
        "id": "lq-bjcTkCbIA"
      },
      "execution_count": null,
      "outputs": []
    }
  ]
}