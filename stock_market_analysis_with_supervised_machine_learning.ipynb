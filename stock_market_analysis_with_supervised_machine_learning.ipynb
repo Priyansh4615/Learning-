{
  "nbformat": 4,
  "nbformat_minor": 0,
  "metadata": {
    "colab": {
      "provenance": [],
      "authorship_tag": "ABX9TyMRlyEfFNNaz+Qz6yElwTmv",
      "include_colab_link": true
    },
    "kernelspec": {
      "name": "python3",
      "display_name": "Python 3"
    },
    "language_info": {
      "name": "python"
    }
  },
  "cells": [
    {
      "cell_type": "markdown",
      "metadata": {
        "id": "view-in-github",
        "colab_type": "text"
      },
      "source": [
        "<a href=\"https://colab.research.google.com/github/Priyansh4615/Learning-/blob/main/stock_market_analysis_with_supervised_machine_learning.ipynb\" target=\"_parent\"><img src=\"https://colab.research.google.com/assets/colab-badge.svg\" alt=\"Open In Colab\"/></a>"
      ]
    },
    {
      "cell_type": "markdown",
      "source": [
        "**STOCK MARKET PREDICTION AND FORECASTING USING STACKED LSTM**"
      ],
      "metadata": {
        "id": "thUOKN7pWrZ5"
      }
    },
    {
      "cell_type": "code",
      "execution_count": 2,
      "metadata": {
        "id": "R0Ma0y5JWYsp"
      },
      "outputs": [],
      "source": [
        "# Data collection\n",
        "import pandas_datareader as pdr"
      ]
    },
    {
      "cell_type": "code",
      "source": [
        "df = pdr.get_data_tiingo('AAPL' , api_key = '0eae58d56c4ba11e7e57f50122d6216576f05a1a')"
      ],
      "metadata": {
        "colab": {
          "base_uri": "https://localhost:8080/"
        },
        "id": "WunPC1WtW6Ew",
        "outputId": "6a390bdb-7044-4710-b2d8-2db20e3f5c5b"
      },
      "execution_count": 5,
      "outputs": [
        {
          "output_type": "stream",
          "name": "stderr",
          "text": [
            "/usr/local/lib/python3.8/dist-packages/pandas_datareader/tiingo.py:234: FutureWarning: In a future version of pandas all arguments of concat except for the argument 'objs' will be keyword-only\n",
            "  return pd.concat(dfs, self._concat_axis)\n"
          ]
        }
      ]
    },
    {
      "cell_type": "code",
      "source": [
        "df.to_csv('AAPL.csv')"
      ],
      "metadata": {
        "id": "HhgU4RJIZohp"
      },
      "execution_count": 6,
      "outputs": []
    },
    {
      "cell_type": "code",
      "source": [
        "import pandas as pd"
      ],
      "metadata": {
        "id": "zsDe77htai5s"
      },
      "execution_count": 7,
      "outputs": []
    },
    {
      "cell_type": "code",
      "source": [
        "df1 = pd.read_csv('AAPL.csv')"
      ],
      "metadata": {
        "id": "dawFf1Lqal5h"
      },
      "execution_count": 8,
      "outputs": []
    },
    {
      "cell_type": "code",
      "source": [
        "df1.head()"
      ],
      "metadata": {
        "colab": {
          "base_uri": "https://localhost:8080/",
          "height": 206
        },
        "id": "tK4OC9eTarJK",
        "outputId": "f9acd6cf-9395-4ce8-9f00-01ca2de9549f"
      },
      "execution_count": 11,
      "outputs": [
        {
          "output_type": "execute_result",
          "data": {
            "text/plain": [
              "  symbol                       date   close    high     low    open    volume  \\\n",
              "0   AAPL  2017-12-18 00:00:00+00:00  176.42  177.20  174.86  174.88  28831533   \n",
              "1   AAPL  2017-12-19 00:00:00+00:00  174.54  175.39  174.09  175.03  27078872   \n",
              "2   AAPL  2017-12-20 00:00:00+00:00  174.35  175.42  173.25  174.87  23000392   \n",
              "3   AAPL  2017-12-21 00:00:00+00:00  175.01  176.02  174.10  174.17  20356826   \n",
              "4   AAPL  2017-12-22 00:00:00+00:00  175.01  175.42  174.50  174.68  16052615   \n",
              "\n",
              "    adjClose    adjHigh     adjLow    adjOpen  adjVolume  divCash  splitFactor  \n",
              "0  41.937498  42.122915  41.566664  41.571419  115326132      0.0          1.0  \n",
              "1  41.490596  41.692653  41.383624  41.607076  108315488      0.0          1.0  \n",
              "2  41.445430  41.699784  41.183945  41.569041   92001568      0.0          1.0  \n",
              "3  41.602321  41.842412  41.386002  41.402642   81427304      0.0          1.0  \n",
              "4  41.602321  41.699784  41.481087  41.523876   64210460      0.0          1.0  "
            ],
            "text/html": [
              "\n",
              "  <div id=\"df-149695bf-7e70-4a7e-8c95-1e1a3c3f6b85\">\n",
              "    <div class=\"colab-df-container\">\n",
              "      <div>\n",
              "<style scoped>\n",
              "    .dataframe tbody tr th:only-of-type {\n",
              "        vertical-align: middle;\n",
              "    }\n",
              "\n",
              "    .dataframe tbody tr th {\n",
              "        vertical-align: top;\n",
              "    }\n",
              "\n",
              "    .dataframe thead th {\n",
              "        text-align: right;\n",
              "    }\n",
              "</style>\n",
              "<table border=\"1\" class=\"dataframe\">\n",
              "  <thead>\n",
              "    <tr style=\"text-align: right;\">\n",
              "      <th></th>\n",
              "      <th>symbol</th>\n",
              "      <th>date</th>\n",
              "      <th>close</th>\n",
              "      <th>high</th>\n",
              "      <th>low</th>\n",
              "      <th>open</th>\n",
              "      <th>volume</th>\n",
              "      <th>adjClose</th>\n",
              "      <th>adjHigh</th>\n",
              "      <th>adjLow</th>\n",
              "      <th>adjOpen</th>\n",
              "      <th>adjVolume</th>\n",
              "      <th>divCash</th>\n",
              "      <th>splitFactor</th>\n",
              "    </tr>\n",
              "  </thead>\n",
              "  <tbody>\n",
              "    <tr>\n",
              "      <th>0</th>\n",
              "      <td>AAPL</td>\n",
              "      <td>2017-12-18 00:00:00+00:00</td>\n",
              "      <td>176.42</td>\n",
              "      <td>177.20</td>\n",
              "      <td>174.86</td>\n",
              "      <td>174.88</td>\n",
              "      <td>28831533</td>\n",
              "      <td>41.937498</td>\n",
              "      <td>42.122915</td>\n",
              "      <td>41.566664</td>\n",
              "      <td>41.571419</td>\n",
              "      <td>115326132</td>\n",
              "      <td>0.0</td>\n",
              "      <td>1.0</td>\n",
              "    </tr>\n",
              "    <tr>\n",
              "      <th>1</th>\n",
              "      <td>AAPL</td>\n",
              "      <td>2017-12-19 00:00:00+00:00</td>\n",
              "      <td>174.54</td>\n",
              "      <td>175.39</td>\n",
              "      <td>174.09</td>\n",
              "      <td>175.03</td>\n",
              "      <td>27078872</td>\n",
              "      <td>41.490596</td>\n",
              "      <td>41.692653</td>\n",
              "      <td>41.383624</td>\n",
              "      <td>41.607076</td>\n",
              "      <td>108315488</td>\n",
              "      <td>0.0</td>\n",
              "      <td>1.0</td>\n",
              "    </tr>\n",
              "    <tr>\n",
              "      <th>2</th>\n",
              "      <td>AAPL</td>\n",
              "      <td>2017-12-20 00:00:00+00:00</td>\n",
              "      <td>174.35</td>\n",
              "      <td>175.42</td>\n",
              "      <td>173.25</td>\n",
              "      <td>174.87</td>\n",
              "      <td>23000392</td>\n",
              "      <td>41.445430</td>\n",
              "      <td>41.699784</td>\n",
              "      <td>41.183945</td>\n",
              "      <td>41.569041</td>\n",
              "      <td>92001568</td>\n",
              "      <td>0.0</td>\n",
              "      <td>1.0</td>\n",
              "    </tr>\n",
              "    <tr>\n",
              "      <th>3</th>\n",
              "      <td>AAPL</td>\n",
              "      <td>2017-12-21 00:00:00+00:00</td>\n",
              "      <td>175.01</td>\n",
              "      <td>176.02</td>\n",
              "      <td>174.10</td>\n",
              "      <td>174.17</td>\n",
              "      <td>20356826</td>\n",
              "      <td>41.602321</td>\n",
              "      <td>41.842412</td>\n",
              "      <td>41.386002</td>\n",
              "      <td>41.402642</td>\n",
              "      <td>81427304</td>\n",
              "      <td>0.0</td>\n",
              "      <td>1.0</td>\n",
              "    </tr>\n",
              "    <tr>\n",
              "      <th>4</th>\n",
              "      <td>AAPL</td>\n",
              "      <td>2017-12-22 00:00:00+00:00</td>\n",
              "      <td>175.01</td>\n",
              "      <td>175.42</td>\n",
              "      <td>174.50</td>\n",
              "      <td>174.68</td>\n",
              "      <td>16052615</td>\n",
              "      <td>41.602321</td>\n",
              "      <td>41.699784</td>\n",
              "      <td>41.481087</td>\n",
              "      <td>41.523876</td>\n",
              "      <td>64210460</td>\n",
              "      <td>0.0</td>\n",
              "      <td>1.0</td>\n",
              "    </tr>\n",
              "  </tbody>\n",
              "</table>\n",
              "</div>\n",
              "      <button class=\"colab-df-convert\" onclick=\"convertToInteractive('df-149695bf-7e70-4a7e-8c95-1e1a3c3f6b85')\"\n",
              "              title=\"Convert this dataframe to an interactive table.\"\n",
              "              style=\"display:none;\">\n",
              "        \n",
              "  <svg xmlns=\"http://www.w3.org/2000/svg\" height=\"24px\"viewBox=\"0 0 24 24\"\n",
              "       width=\"24px\">\n",
              "    <path d=\"M0 0h24v24H0V0z\" fill=\"none\"/>\n",
              "    <path d=\"M18.56 5.44l.94 2.06.94-2.06 2.06-.94-2.06-.94-.94-2.06-.94 2.06-2.06.94zm-11 1L8.5 8.5l.94-2.06 2.06-.94-2.06-.94L8.5 2.5l-.94 2.06-2.06.94zm10 10l.94 2.06.94-2.06 2.06-.94-2.06-.94-.94-2.06-.94 2.06-2.06.94z\"/><path d=\"M17.41 7.96l-1.37-1.37c-.4-.4-.92-.59-1.43-.59-.52 0-1.04.2-1.43.59L10.3 9.45l-7.72 7.72c-.78.78-.78 2.05 0 2.83L4 21.41c.39.39.9.59 1.41.59.51 0 1.02-.2 1.41-.59l7.78-7.78 2.81-2.81c.8-.78.8-2.07 0-2.86zM5.41 20L4 18.59l7.72-7.72 1.47 1.35L5.41 20z\"/>\n",
              "  </svg>\n",
              "      </button>\n",
              "      \n",
              "  <style>\n",
              "    .colab-df-container {\n",
              "      display:flex;\n",
              "      flex-wrap:wrap;\n",
              "      gap: 12px;\n",
              "    }\n",
              "\n",
              "    .colab-df-convert {\n",
              "      background-color: #E8F0FE;\n",
              "      border: none;\n",
              "      border-radius: 50%;\n",
              "      cursor: pointer;\n",
              "      display: none;\n",
              "      fill: #1967D2;\n",
              "      height: 32px;\n",
              "      padding: 0 0 0 0;\n",
              "      width: 32px;\n",
              "    }\n",
              "\n",
              "    .colab-df-convert:hover {\n",
              "      background-color: #E2EBFA;\n",
              "      box-shadow: 0px 1px 2px rgba(60, 64, 67, 0.3), 0px 1px 3px 1px rgba(60, 64, 67, 0.15);\n",
              "      fill: #174EA6;\n",
              "    }\n",
              "\n",
              "    [theme=dark] .colab-df-convert {\n",
              "      background-color: #3B4455;\n",
              "      fill: #D2E3FC;\n",
              "    }\n",
              "\n",
              "    [theme=dark] .colab-df-convert:hover {\n",
              "      background-color: #434B5C;\n",
              "      box-shadow: 0px 1px 3px 1px rgba(0, 0, 0, 0.15);\n",
              "      filter: drop-shadow(0px 1px 2px rgba(0, 0, 0, 0.3));\n",
              "      fill: #FFFFFF;\n",
              "    }\n",
              "  </style>\n",
              "\n",
              "      <script>\n",
              "        const buttonEl =\n",
              "          document.querySelector('#df-149695bf-7e70-4a7e-8c95-1e1a3c3f6b85 button.colab-df-convert');\n",
              "        buttonEl.style.display =\n",
              "          google.colab.kernel.accessAllowed ? 'block' : 'none';\n",
              "\n",
              "        async function convertToInteractive(key) {\n",
              "          const element = document.querySelector('#df-149695bf-7e70-4a7e-8c95-1e1a3c3f6b85');\n",
              "          const dataTable =\n",
              "            await google.colab.kernel.invokeFunction('convertToInteractive',\n",
              "                                                     [key], {});\n",
              "          if (!dataTable) return;\n",
              "\n",
              "          const docLinkHtml = 'Like what you see? Visit the ' +\n",
              "            '<a target=\"_blank\" href=https://colab.research.google.com/notebooks/data_table.ipynb>data table notebook</a>'\n",
              "            + ' to learn more about interactive tables.';\n",
              "          element.innerHTML = '';\n",
              "          dataTable['output_type'] = 'display_data';\n",
              "          await google.colab.output.renderOutput(dataTable, element);\n",
              "          const docLink = document.createElement('div');\n",
              "          docLink.innerHTML = docLinkHtml;\n",
              "          element.appendChild(docLink);\n",
              "        }\n",
              "      </script>\n",
              "    </div>\n",
              "  </div>\n",
              "  "
            ]
          },
          "metadata": {},
          "execution_count": 11
        }
      ]
    },
    {
      "cell_type": "code",
      "source": [
        "df1.tail()"
      ],
      "metadata": {
        "colab": {
          "base_uri": "https://localhost:8080/",
          "height": 206
        },
        "id": "d5LFYoIXcHeq",
        "outputId": "ba43e5cb-026f-40ce-d023-1898953c401b"
      },
      "execution_count": 15,
      "outputs": [
        {
          "output_type": "execute_result",
          "data": {
            "text/plain": [
              "     symbol                       date   close      high     low    open  \\\n",
              "1252   AAPL  2022-12-08 00:00:00+00:00  142.65  143.5200  141.10  142.36   \n",
              "1253   AAPL  2022-12-09 00:00:00+00:00  142.16  145.5700  140.90  142.34   \n",
              "1254   AAPL  2022-12-12 00:00:00+00:00  144.49  144.5000  141.06  142.70   \n",
              "1255   AAPL  2022-12-13 00:00:00+00:00  145.47  149.9692  144.24  149.50   \n",
              "1256   AAPL  2022-12-14 00:00:00+00:00  143.21  146.6550  141.16  145.35   \n",
              "\n",
              "        volume  adjClose   adjHigh  adjLow  adjOpen  adjVolume  divCash  \\\n",
              "1252  62128338    142.65  143.5200  141.10   142.36   62128338      0.0   \n",
              "1253  76097011    142.16  145.5700  140.90   142.34   76097011      0.0   \n",
              "1254  70462654    144.49  144.5000  141.06   142.70   70462654      0.0   \n",
              "1255  93886161    145.47  149.9692  144.24   149.50   93886161      0.0   \n",
              "1256  82291182    143.21  146.6550  141.16   145.35   82291182      0.0   \n",
              "\n",
              "      splitFactor  \n",
              "1252          1.0  \n",
              "1253          1.0  \n",
              "1254          1.0  \n",
              "1255          1.0  \n",
              "1256          1.0  "
            ],
            "text/html": [
              "\n",
              "  <div id=\"df-2adeaa65-8906-4ae8-977a-c39a9e44d858\">\n",
              "    <div class=\"colab-df-container\">\n",
              "      <div>\n",
              "<style scoped>\n",
              "    .dataframe tbody tr th:only-of-type {\n",
              "        vertical-align: middle;\n",
              "    }\n",
              "\n",
              "    .dataframe tbody tr th {\n",
              "        vertical-align: top;\n",
              "    }\n",
              "\n",
              "    .dataframe thead th {\n",
              "        text-align: right;\n",
              "    }\n",
              "</style>\n",
              "<table border=\"1\" class=\"dataframe\">\n",
              "  <thead>\n",
              "    <tr style=\"text-align: right;\">\n",
              "      <th></th>\n",
              "      <th>symbol</th>\n",
              "      <th>date</th>\n",
              "      <th>close</th>\n",
              "      <th>high</th>\n",
              "      <th>low</th>\n",
              "      <th>open</th>\n",
              "      <th>volume</th>\n",
              "      <th>adjClose</th>\n",
              "      <th>adjHigh</th>\n",
              "      <th>adjLow</th>\n",
              "      <th>adjOpen</th>\n",
              "      <th>adjVolume</th>\n",
              "      <th>divCash</th>\n",
              "      <th>splitFactor</th>\n",
              "    </tr>\n",
              "  </thead>\n",
              "  <tbody>\n",
              "    <tr>\n",
              "      <th>1252</th>\n",
              "      <td>AAPL</td>\n",
              "      <td>2022-12-08 00:00:00+00:00</td>\n",
              "      <td>142.65</td>\n",
              "      <td>143.5200</td>\n",
              "      <td>141.10</td>\n",
              "      <td>142.36</td>\n",
              "      <td>62128338</td>\n",
              "      <td>142.65</td>\n",
              "      <td>143.5200</td>\n",
              "      <td>141.10</td>\n",
              "      <td>142.36</td>\n",
              "      <td>62128338</td>\n",
              "      <td>0.0</td>\n",
              "      <td>1.0</td>\n",
              "    </tr>\n",
              "    <tr>\n",
              "      <th>1253</th>\n",
              "      <td>AAPL</td>\n",
              "      <td>2022-12-09 00:00:00+00:00</td>\n",
              "      <td>142.16</td>\n",
              "      <td>145.5700</td>\n",
              "      <td>140.90</td>\n",
              "      <td>142.34</td>\n",
              "      <td>76097011</td>\n",
              "      <td>142.16</td>\n",
              "      <td>145.5700</td>\n",
              "      <td>140.90</td>\n",
              "      <td>142.34</td>\n",
              "      <td>76097011</td>\n",
              "      <td>0.0</td>\n",
              "      <td>1.0</td>\n",
              "    </tr>\n",
              "    <tr>\n",
              "      <th>1254</th>\n",
              "      <td>AAPL</td>\n",
              "      <td>2022-12-12 00:00:00+00:00</td>\n",
              "      <td>144.49</td>\n",
              "      <td>144.5000</td>\n",
              "      <td>141.06</td>\n",
              "      <td>142.70</td>\n",
              "      <td>70462654</td>\n",
              "      <td>144.49</td>\n",
              "      <td>144.5000</td>\n",
              "      <td>141.06</td>\n",
              "      <td>142.70</td>\n",
              "      <td>70462654</td>\n",
              "      <td>0.0</td>\n",
              "      <td>1.0</td>\n",
              "    </tr>\n",
              "    <tr>\n",
              "      <th>1255</th>\n",
              "      <td>AAPL</td>\n",
              "      <td>2022-12-13 00:00:00+00:00</td>\n",
              "      <td>145.47</td>\n",
              "      <td>149.9692</td>\n",
              "      <td>144.24</td>\n",
              "      <td>149.50</td>\n",
              "      <td>93886161</td>\n",
              "      <td>145.47</td>\n",
              "      <td>149.9692</td>\n",
              "      <td>144.24</td>\n",
              "      <td>149.50</td>\n",
              "      <td>93886161</td>\n",
              "      <td>0.0</td>\n",
              "      <td>1.0</td>\n",
              "    </tr>\n",
              "    <tr>\n",
              "      <th>1256</th>\n",
              "      <td>AAPL</td>\n",
              "      <td>2022-12-14 00:00:00+00:00</td>\n",
              "      <td>143.21</td>\n",
              "      <td>146.6550</td>\n",
              "      <td>141.16</td>\n",
              "      <td>145.35</td>\n",
              "      <td>82291182</td>\n",
              "      <td>143.21</td>\n",
              "      <td>146.6550</td>\n",
              "      <td>141.16</td>\n",
              "      <td>145.35</td>\n",
              "      <td>82291182</td>\n",
              "      <td>0.0</td>\n",
              "      <td>1.0</td>\n",
              "    </tr>\n",
              "  </tbody>\n",
              "</table>\n",
              "</div>\n",
              "      <button class=\"colab-df-convert\" onclick=\"convertToInteractive('df-2adeaa65-8906-4ae8-977a-c39a9e44d858')\"\n",
              "              title=\"Convert this dataframe to an interactive table.\"\n",
              "              style=\"display:none;\">\n",
              "        \n",
              "  <svg xmlns=\"http://www.w3.org/2000/svg\" height=\"24px\"viewBox=\"0 0 24 24\"\n",
              "       width=\"24px\">\n",
              "    <path d=\"M0 0h24v24H0V0z\" fill=\"none\"/>\n",
              "    <path d=\"M18.56 5.44l.94 2.06.94-2.06 2.06-.94-2.06-.94-.94-2.06-.94 2.06-2.06.94zm-11 1L8.5 8.5l.94-2.06 2.06-.94-2.06-.94L8.5 2.5l-.94 2.06-2.06.94zm10 10l.94 2.06.94-2.06 2.06-.94-2.06-.94-.94-2.06-.94 2.06-2.06.94z\"/><path d=\"M17.41 7.96l-1.37-1.37c-.4-.4-.92-.59-1.43-.59-.52 0-1.04.2-1.43.59L10.3 9.45l-7.72 7.72c-.78.78-.78 2.05 0 2.83L4 21.41c.39.39.9.59 1.41.59.51 0 1.02-.2 1.41-.59l7.78-7.78 2.81-2.81c.8-.78.8-2.07 0-2.86zM5.41 20L4 18.59l7.72-7.72 1.47 1.35L5.41 20z\"/>\n",
              "  </svg>\n",
              "      </button>\n",
              "      \n",
              "  <style>\n",
              "    .colab-df-container {\n",
              "      display:flex;\n",
              "      flex-wrap:wrap;\n",
              "      gap: 12px;\n",
              "    }\n",
              "\n",
              "    .colab-df-convert {\n",
              "      background-color: #E8F0FE;\n",
              "      border: none;\n",
              "      border-radius: 50%;\n",
              "      cursor: pointer;\n",
              "      display: none;\n",
              "      fill: #1967D2;\n",
              "      height: 32px;\n",
              "      padding: 0 0 0 0;\n",
              "      width: 32px;\n",
              "    }\n",
              "\n",
              "    .colab-df-convert:hover {\n",
              "      background-color: #E2EBFA;\n",
              "      box-shadow: 0px 1px 2px rgba(60, 64, 67, 0.3), 0px 1px 3px 1px rgba(60, 64, 67, 0.15);\n",
              "      fill: #174EA6;\n",
              "    }\n",
              "\n",
              "    [theme=dark] .colab-df-convert {\n",
              "      background-color: #3B4455;\n",
              "      fill: #D2E3FC;\n",
              "    }\n",
              "\n",
              "    [theme=dark] .colab-df-convert:hover {\n",
              "      background-color: #434B5C;\n",
              "      box-shadow: 0px 1px 3px 1px rgba(0, 0, 0, 0.15);\n",
              "      filter: drop-shadow(0px 1px 2px rgba(0, 0, 0, 0.3));\n",
              "      fill: #FFFFFF;\n",
              "    }\n",
              "  </style>\n",
              "\n",
              "      <script>\n",
              "        const buttonEl =\n",
              "          document.querySelector('#df-2adeaa65-8906-4ae8-977a-c39a9e44d858 button.colab-df-convert');\n",
              "        buttonEl.style.display =\n",
              "          google.colab.kernel.accessAllowed ? 'block' : 'none';\n",
              "\n",
              "        async function convertToInteractive(key) {\n",
              "          const element = document.querySelector('#df-2adeaa65-8906-4ae8-977a-c39a9e44d858');\n",
              "          const dataTable =\n",
              "            await google.colab.kernel.invokeFunction('convertToInteractive',\n",
              "                                                     [key], {});\n",
              "          if (!dataTable) return;\n",
              "\n",
              "          const docLinkHtml = 'Like what you see? Visit the ' +\n",
              "            '<a target=\"_blank\" href=https://colab.research.google.com/notebooks/data_table.ipynb>data table notebook</a>'\n",
              "            + ' to learn more about interactive tables.';\n",
              "          element.innerHTML = '';\n",
              "          dataTable['output_type'] = 'display_data';\n",
              "          await google.colab.output.renderOutput(dataTable, element);\n",
              "          const docLink = document.createElement('div');\n",
              "          docLink.innerHTML = docLinkHtml;\n",
              "          element.appendChild(docLink);\n",
              "        }\n",
              "      </script>\n",
              "    </div>\n",
              "  </div>\n",
              "  "
            ]
          },
          "metadata": {},
          "execution_count": 15
        }
      ]
    },
    {
      "cell_type": "code",
      "source": [
        "df2 = df.reset_index()['close']"
      ],
      "metadata": {
        "id": "iS-5TDtKatO8"
      },
      "execution_count": 12,
      "outputs": []
    },
    {
      "cell_type": "code",
      "source": [
        "df2.shape"
      ],
      "metadata": {
        "colab": {
          "base_uri": "https://localhost:8080/"
        },
        "id": "EpzOEmyPb9UY",
        "outputId": "50f4191a-925f-49f3-c3ea-2c3ae7aac981"
      },
      "execution_count": 14,
      "outputs": [
        {
          "output_type": "execute_result",
          "data": {
            "text/plain": [
              "(1257,)"
            ]
          },
          "metadata": {},
          "execution_count": 14
        }
      ]
    },
    {
      "cell_type": "code",
      "source": [
        "import matplotlib.pyplot as plt\n",
        "plt.plot(df2)"
      ],
      "metadata": {
        "colab": {
          "base_uri": "https://localhost:8080/",
          "height": 282
        },
        "id": "snyR8FYvbI5U",
        "outputId": "18729980-176f-4f20-9530-23182b9070bc"
      },
      "execution_count": 16,
      "outputs": [
        {
          "output_type": "execute_result",
          "data": {
            "text/plain": [
              "[<matplotlib.lines.Line2D at 0x7fe4a0dbe130>]"
            ]
          },
          "metadata": {},
          "execution_count": 16
        },
        {
          "output_type": "display_data",
          "data": {
            "text/plain": [
              "<Figure size 432x288 with 1 Axes>"
            ],
            "image/png": "[encoded data removed]"
          },
          "metadata": {
            "needs_background": "light"
          }
        }
      ]
    },
    {
      "cell_type": "markdown",
      "source": [
        "**LSTM are so sensitive to the scale of the data . so we apply MinMax Scaler**"
      ],
      "metadata": {
        "id": "CPX0opwFe4m8"
      }
    },
    {
      "cell_type": "code",
      "source": [
        "import numpy as np"
      ],
      "metadata": {
        "id": "0rDYc468bMhV"
      },
      "execution_count": 17,
      "outputs": []
    },
    {
      "cell_type": "code",
      "source": [
        "from sklearn.preprocessing import MinMaxScaler\n",
        "scaler = MinMaxScaler(feature_range =(0,1))\n",
        "df2 = scaler.fit_transform(np.array(df2).reshape(-1,1))"
      ],
      "metadata": {
        "id": "mGrV6KPgfEzu"
      },
      "execution_count": 21,
      "outputs": []
    },
    {
      "cell_type": "code",
      "source": [
        "print(df2)"
      ],
      "metadata": {
        "colab": {
          "base_uri": "https://localhost:8080/"
        },
        "id": "80eKGA6rhoUF",
        "outputId": "45462723-b3ec-4802-b51a-a2677d5ff8db"
      },
      "execution_count": 23,
      "outputs": [
        {
          "output_type": "stream",
          "name": "stdout",
          "text": [
            "[[0.17427677]\n",
            " [0.16956794]\n",
            " [0.16909205]\n",
            " ...\n",
            " [0.09430182]\n",
            " [0.09675642]\n",
            " [0.0910958 ]]\n"
          ]
        }
      ]
    },
    {
      "cell_type": "markdown",
      "source": [
        "**Splitting dataset into train and test data**"
      ],
      "metadata": {
        "id": "N3nFQAUjiq4N"
      }
    },
    {
      "cell_type": "code",
      "source": [
        "training_size = int(len(df1)*0.65)\n",
        "test_size = len(df1) - training_size\n",
        "train_data, test_data = df2[0:training_size,:], df2[training_size:len(df2),:1]"
      ],
      "metadata": {
        "id": "sbU3Jv3Zh_Qq"
      },
      "execution_count": 24,
      "outputs": []
    },
    {
      "cell_type": "code",
      "source": [
        "#convert an array of values into a dataset matrix\n",
        "import numpy\n",
        "def create_dataset(dataset, time_step = 1):\n",
        "  dataX, dataY = [], [];\n",
        "  for i in range(len(dataset) - time_step-1):\n",
        "    a = dataset[i:(i + time_step), 0]\n",
        "    dataX.append(a)\n",
        "    dataY.append(dataset[i +  time_step, 0 ])\n",
        "  return numpy.array(dataX), numpy.array(dataY)"
      ],
      "metadata": {
        "id": "DW7bxvvljRlt"
      },
      "execution_count": 26,
      "outputs": []
    },
    {
      "cell_type": "code",
      "source": [
        "# reshape into X=t , t+1 , t+3 and Y = t+4\n",
        "time_step = 100\n",
        "X_train , y_train = create_dataset(train_data , time_step)\n",
        "X_test , y_test = create_dataset(test_data , time_step)"
      ],
      "metadata": {
        "id": "5KQ7VQ4LzZSI"
      },
      "execution_count": 27,
      "outputs": []
    },
    {
      "cell_type": "code",
      "source": [
        "print(X_train)"
      ],
      "metadata": {
        "colab": {
          "base_uri": "https://localhost:8080/"
        },
        "id": "LCsMd89X0FYE",
        "outputId": "74816aa4-d538-4e5b-a46f-b9b58e99f7e7"
      },
      "execution_count": 28,
      "outputs": [
        {
          "output_type": "stream",
          "name": "stdout",
          "text": [
            "[[0.17427677 0.16956794 0.16909205 ... 0.20167815 0.20839073 0.20475892]\n",
            " [0.16956794 0.16909205 0.17074515 ... 0.20839073 0.20475892 0.20365686]\n",
            " [0.16909205 0.17074515 0.17074515 ... 0.20475892 0.20365686 0.19937383]\n",
            " ...\n",
            " [0.02289292 0.02672511 0.0251221  ... 0.03291171 0.03787101 0.03554164]\n",
            " [0.02672511 0.0251221  0.02231684 ... 0.03787101 0.03554164 0.04295554]\n",
            " [0.0251221  0.02231684 0.02053851 ... 0.03554164 0.04295554 0.04691296]]\n"
          ]
        }
      ]
    },
    {
      "cell_type": "code",
      "source": [
        "print(X_train.shape) , print(y_train.shape)"
      ],
      "metadata": {
        "colab": {
          "base_uri": "https://localhost:8080/"
        },
        "id": "SgPER7vx2g8e",
        "outputId": "db74a53f-5793-4af9-d47c-55743f28f2fe"
      },
      "execution_count": 30,
      "outputs": [
        {
          "output_type": "stream",
          "name": "stdout",
          "text": [
            "(716, 100)\n",
            "(716,)\n"
          ]
        },
        {
          "output_type": "execute_result",
          "data": {
            "text/plain": [
              "(None, None)"
            ]
          },
          "metadata": {},
          "execution_count": 30
        }
      ]
    },
    {
      "cell_type": "code",
      "source": [
        "print(X_test.shape) , print(y_test.shape)"
      ],
      "metadata": {
        "colab": {
          "base_uri": "https://localhost:8080/"
        },
        "id": "0Q9P7OMg0V2S",
        "outputId": "e9587518-dfdd-4911-99d4-c501258f73d4"
      },
      "execution_count": 29,
      "outputs": [
        {
          "output_type": "stream",
          "name": "stdout",
          "text": [
            "(339, 100)\n",
            "(339,)\n"
          ]
        },
        {
          "output_type": "execute_result",
          "data": {
            "text/plain": [
              "(None, None)"
            ]
          },
          "metadata": {},
          "execution_count": 29
        }
      ]
    },
    {
      "cell_type": "code",
      "source": [],
      "metadata": {
        "id": "SC-5YigW1-YV"
      },
      "execution_count": null,
      "outputs": []
    }
  ]
}