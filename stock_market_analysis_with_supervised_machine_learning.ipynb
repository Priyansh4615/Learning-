{
  "nbformat": 4,
  "nbformat_minor": 0,
  "metadata": {
    "colab": {
      "provenance": [],
      "authorship_tag": "ABX9TyOff4GM6RSWCF27CHW04cCy",
      "include_colab_link": true
    },
    "kernelspec": {
      "name": "python3",
      "display_name": "Python 3"
    },
    "language_info": {
      "name": "python"
    }
  },
  "cells": [
    {
      "cell_type": "markdown",
      "metadata": {
        "id": "view-in-github",
        "colab_type": "text"
      },
      "source": [
        "<a href=\"https://colab.research.google.com/github/Priyansh4615/Learning-/blob/main/stock_market_analysis_with_supervised_machine_learning.ipynb\" target=\"_parent\"><img src=\"https://colab.research.google.com/assets/colab-badge.svg\" alt=\"Open In Colab\"/></a>"
      ]
    },
    {
      "cell_type": "markdown",
      "source": [
        "**STOCK MARKET PREDICTION AND FORECASTING USING STACKED LSTM**"
      ],
      "metadata": {
        "id": "thUOKN7pWrZ5"
      }
    },
    {
      "cell_type": "code",
      "execution_count": 1,
      "metadata": {
        "id": "R0Ma0y5JWYsp"
      },
      "outputs": [],
      "source": [
        "# Data collection\n",
        "import pandas_datareader as pdr"
      ]
    },
    {
      "cell_type": "code",
      "source": [
        "df = pdr.get_data_tiingo('AAPL' , api_key = '0eae58d56c4ba11e7e57f50122d6216576f05a1a')"
      ],
      "metadata": {
        "colab": {
          "base_uri": "https://localhost:8080/"
        },
        "id": "WunPC1WtW6Ew",
        "outputId": "274bcfbc-3016-4cba-9ad4-080def6c94ca"
      },
      "execution_count": 2,
      "outputs": [
        {
          "output_type": "stream",
          "name": "stderr",
          "text": [
            "/usr/local/lib/python3.8/dist-packages/pandas_datareader/tiingo.py:234: FutureWarning: In a future version of pandas all arguments of concat except for the argument 'objs' will be keyword-only\n",
            "  return pd.concat(dfs, self._concat_axis)\n"
          ]
        }
      ]
    },
    {
      "cell_type": "code",
      "source": [
        "df.to_csv('AAPL.csv')"
      ],
      "metadata": {
        "id": "HhgU4RJIZohp"
      },
      "execution_count": 3,
      "outputs": []
    },
    {
      "cell_type": "code",
      "source": [
        "import pandas as pd"
      ],
      "metadata": {
        "id": "zsDe77htai5s"
      },
      "execution_count": 4,
      "outputs": []
    },
    {
      "cell_type": "code",
      "source": [
        "df1 = pd.read_csv('AAPL.csv')"
      ],
      "metadata": {
        "id": "dawFf1Lqal5h"
      },
      "execution_count": 5,
      "outputs": []
    },
    {
      "cell_type": "code",
      "source": [
        "df1.head()"
      ],
      "metadata": {
        "colab": {
          "base_uri": "https://localhost:8080/",
          "height": 206
        },
        "id": "tK4OC9eTarJK",
        "outputId": "a6a6f31f-87b2-4f0c-96f8-15cc31ac6e36"
      },
      "execution_count": 6,
      "outputs": [
        {
          "output_type": "execute_result",
          "data": {
            "text/plain": [
              "  symbol                       date   close    high     low    open    volume  \\\n",
              "0   AAPL  2017-12-22 00:00:00+00:00  175.01  175.42  174.50  174.68  16052615   \n",
              "1   AAPL  2017-12-26 00:00:00+00:00  170.57  171.47  169.68  170.80  32968167   \n",
              "2   AAPL  2017-12-27 00:00:00+00:00  170.60  170.78  169.71  170.10  21672062   \n",
              "3   AAPL  2017-12-28 00:00:00+00:00  171.08  171.85  170.48  171.00  15997739   \n",
              "4   AAPL  2017-12-29 00:00:00+00:00  169.23  170.59  169.22  170.52  25643711   \n",
              "\n",
              "    adjClose    adjHigh     adjLow    adjOpen  adjVolume  divCash  splitFactor  \n",
              "0  41.602321  41.699784  41.481087  41.523876   64210460      0.0          1.0  \n",
              "1  40.546871  40.760814  40.335306  40.601546  131872668      0.0          1.0  \n",
              "2  40.554003  40.596791  40.342437  40.435146   86688248      0.0          1.0  \n",
              "3  40.668105  40.851145  40.525477  40.649088   63990956      0.0          1.0  \n",
              "4  40.228335  40.551626  40.225957  40.534986  102574844      0.0          1.0  "
            ],
            "text/html": [
              "\n",
              "  <div id=\"df-53b35c4a-34ad-4e1b-8563-568bc0cee3f9\">\n",
              "    <div class=\"colab-df-container\">\n",
              "      <div>\n",
              "<style scoped>\n",
              "    .dataframe tbody tr th:only-of-type {\n",
              "        vertical-align: middle;\n",
              "    }\n",
              "\n",
              "    .dataframe tbody tr th {\n",
              "        vertical-align: top;\n",
              "    }\n",
              "\n",
              "    .dataframe thead th {\n",
              "        text-align: right;\n",
              "    }\n",
              "</style>\n",
              "<table border=\"1\" class=\"dataframe\">\n",
              "  <thead>\n",
              "    <tr style=\"text-align: right;\">\n",
              "      <th></th>\n",
              "      <th>symbol</th>\n",
              "      <th>date</th>\n",
              "      <th>close</th>\n",
              "      <th>high</th>\n",
              "      <th>low</th>\n",
              "      <th>open</th>\n",
              "      <th>volume</th>\n",
              "      <th>adjClose</th>\n",
              "      <th>adjHigh</th>\n",
              "      <th>adjLow</th>\n",
              "      <th>adjOpen</th>\n",
              "      <th>adjVolume</th>\n",
              "      <th>divCash</th>\n",
              "      <th>splitFactor</th>\n",
              "    </tr>\n",
              "  </thead>\n",
              "  <tbody>\n",
              "    <tr>\n",
              "      <th>0</th>\n",
              "      <td>AAPL</td>\n",
              "      <td>2017-12-22 00:00:00+00:00</td>\n",
              "      <td>175.01</td>\n",
              "      <td>175.42</td>\n",
              "      <td>174.50</td>\n",
              "      <td>174.68</td>\n",
              "      <td>16052615</td>\n",
              "      <td>41.602321</td>\n",
              "      <td>41.699784</td>\n",
              "      <td>41.481087</td>\n",
              "      <td>41.523876</td>\n",
              "      <td>64210460</td>\n",
              "      <td>0.0</td>\n",
              "      <td>1.0</td>\n",
              "    </tr>\n",
              "    <tr>\n",
              "      <th>1</th>\n",
              "      <td>AAPL</td>\n",
              "      <td>2017-12-26 00:00:00+00:00</td>\n",
              "      <td>170.57</td>\n",
              "      <td>171.47</td>\n",
              "      <td>169.68</td>\n",
              "      <td>170.80</td>\n",
              "      <td>32968167</td>\n",
              "      <td>40.546871</td>\n",
              "      <td>40.760814</td>\n",
              "      <td>40.335306</td>\n",
              "      <td>40.601546</td>\n",
              "      <td>131872668</td>\n",
              "      <td>0.0</td>\n",
              "      <td>1.0</td>\n",
              "    </tr>\n",
              "    <tr>\n",
              "      <th>2</th>\n",
              "      <td>AAPL</td>\n",
              "      <td>2017-12-27 00:00:00+00:00</td>\n",
              "      <td>170.60</td>\n",
              "      <td>170.78</td>\n",
              "      <td>169.71</td>\n",
              "      <td>170.10</td>\n",
              "      <td>21672062</td>\n",
              "      <td>40.554003</td>\n",
              "      <td>40.596791</td>\n",
              "      <td>40.342437</td>\n",
              "      <td>40.435146</td>\n",
              "      <td>86688248</td>\n",
              "      <td>0.0</td>\n",
              "      <td>1.0</td>\n",
              "    </tr>\n",
              "    <tr>\n",
              "      <th>3</th>\n",
              "      <td>AAPL</td>\n",
              "      <td>2017-12-28 00:00:00+00:00</td>\n",
              "      <td>171.08</td>\n",
              "      <td>171.85</td>\n",
              "      <td>170.48</td>\n",
              "      <td>171.00</td>\n",
              "      <td>15997739</td>\n",
              "      <td>40.668105</td>\n",
              "      <td>40.851145</td>\n",
              "      <td>40.525477</td>\n",
              "      <td>40.649088</td>\n",
              "      <td>63990956</td>\n",
              "      <td>0.0</td>\n",
              "      <td>1.0</td>\n",
              "    </tr>\n",
              "    <tr>\n",
              "      <th>4</th>\n",
              "      <td>AAPL</td>\n",
              "      <td>2017-12-29 00:00:00+00:00</td>\n",
              "      <td>169.23</td>\n",
              "      <td>170.59</td>\n",
              "      <td>169.22</td>\n",
              "      <td>170.52</td>\n",
              "      <td>25643711</td>\n",
              "      <td>40.228335</td>\n",
              "      <td>40.551626</td>\n",
              "      <td>40.225957</td>\n",
              "      <td>40.534986</td>\n",
              "      <td>102574844</td>\n",
              "      <td>0.0</td>\n",
              "      <td>1.0</td>\n",
              "    </tr>\n",
              "  </tbody>\n",
              "</table>\n",
              "</div>\n",
              "      <button class=\"colab-df-convert\" onclick=\"convertToInteractive('df-53b35c4a-34ad-4e1b-8563-568bc0cee3f9')\"\n",
              "              title=\"Convert this dataframe to an interactive table.\"\n",
              "              style=\"display:none;\">\n",
              "        \n",
              "  <svg xmlns=\"http://www.w3.org/2000/svg\" height=\"24px\"viewBox=\"0 0 24 24\"\n",
              "       width=\"24px\">\n",
              "    <path d=\"M0 0h24v24H0V0z\" fill=\"none\"/>\n",
              "    <path d=\"M18.56 5.44l.94 2.06.94-2.06 2.06-.94-2.06-.94-.94-2.06-.94 2.06-2.06.94zm-11 1L8.5 8.5l.94-2.06 2.06-.94-2.06-.94L8.5 2.5l-.94 2.06-2.06.94zm10 10l.94 2.06.94-2.06 2.06-.94-2.06-.94-.94-2.06-.94 2.06-2.06.94z\"/><path d=\"M17.41 7.96l-1.37-1.37c-.4-.4-.92-.59-1.43-.59-.52 0-1.04.2-1.43.59L10.3 9.45l-7.72 7.72c-.78.78-.78 2.05 0 2.83L4 21.41c.39.39.9.59 1.41.59.51 0 1.02-.2 1.41-.59l7.78-7.78 2.81-2.81c.8-.78.8-2.07 0-2.86zM5.41 20L4 18.59l7.72-7.72 1.47 1.35L5.41 20z\"/>\n",
              "  </svg>\n",
              "      </button>\n",
              "      \n",
              "  <style>\n",
              "    .colab-df-container {\n",
              "      display:flex;\n",
              "      flex-wrap:wrap;\n",
              "      gap: 12px;\n",
              "    }\n",
              "\n",
              "    .colab-df-convert {\n",
              "      background-color: #E8F0FE;\n",
              "      border: none;\n",
              "      border-radius: 50%;\n",
              "      cursor: pointer;\n",
              "      display: none;\n",
              "      fill: #1967D2;\n",
              "      height: 32px;\n",
              "      padding: 0 0 0 0;\n",
              "      width: 32px;\n",
              "    }\n",
              "\n",
              "    .colab-df-convert:hover {\n",
              "      background-color: #E2EBFA;\n",
              "      box-shadow: 0px 1px 2px rgba(60, 64, 67, 0.3), 0px 1px 3px 1px rgba(60, 64, 67, 0.15);\n",
              "      fill: #174EA6;\n",
              "    }\n",
              "\n",
              "    [theme=dark] .colab-df-convert {\n",
              "      background-color: #3B4455;\n",
              "      fill: #D2E3FC;\n",
              "    }\n",
              "\n",
              "    [theme=dark] .colab-df-convert:hover {\n",
              "      background-color: #434B5C;\n",
              "      box-shadow: 0px 1px 3px 1px rgba(0, 0, 0, 0.15);\n",
              "      filter: drop-shadow(0px 1px 2px rgba(0, 0, 0, 0.3));\n",
              "      fill: #FFFFFF;\n",
              "    }\n",
              "  </style>\n",
              "\n",
              "      <script>\n",
              "        const buttonEl =\n",
              "          document.querySelector('#df-53b35c4a-34ad-4e1b-8563-568bc0cee3f9 button.colab-df-convert');\n",
              "        buttonEl.style.display =\n",
              "          google.colab.kernel.accessAllowed ? 'block' : 'none';\n",
              "\n",
              "        async function convertToInteractive(key) {\n",
              "          const element = document.querySelector('#df-53b35c4a-34ad-4e1b-8563-568bc0cee3f9');\n",
              "          const dataTable =\n",
              "            await google.colab.kernel.invokeFunction('convertToInteractive',\n",
              "                                                     [key], {});\n",
              "          if (!dataTable) return;\n",
              "\n",
              "          const docLinkHtml = 'Like what you see? Visit the ' +\n",
              "            '<a target=\"_blank\" href=https://colab.research.google.com/notebooks/data_table.ipynb>data table notebook</a>'\n",
              "            + ' to learn more about interactive tables.';\n",
              "          element.innerHTML = '';\n",
              "          dataTable['output_type'] = 'display_data';\n",
              "          await google.colab.output.renderOutput(dataTable, element);\n",
              "          const docLink = document.createElement('div');\n",
              "          docLink.innerHTML = docLinkHtml;\n",
              "          element.appendChild(docLink);\n",
              "        }\n",
              "      </script>\n",
              "    </div>\n",
              "  </div>\n",
              "  "
            ]
          },
          "metadata": {},
          "execution_count": 6
        }
      ]
    },
    {
      "cell_type": "code",
      "source": [
        "df1.tail()"
      ],
      "metadata": {
        "colab": {
          "base_uri": "https://localhost:8080/",
          "height": 206
        },
        "id": "d5LFYoIXcHeq",
        "outputId": "c49978a4-b45c-49ca-aac6-e7e2d6154e60"
      },
      "execution_count": 7,
      "outputs": [
        {
          "output_type": "execute_result",
          "data": {
            "text/plain": [
              "     symbol                       date   close     high      low     open  \\\n",
              "1252   AAPL  2022-12-14 00:00:00+00:00  143.21  146.655  141.160  145.350   \n",
              "1253   AAPL  2022-12-15 00:00:00+00:00  136.50  141.800  136.025  141.110   \n",
              "1254   AAPL  2022-12-16 00:00:00+00:00  134.51  137.650  133.730  136.685   \n",
              "1255   AAPL  2022-12-19 00:00:00+00:00  132.37  135.200  131.320  135.110   \n",
              "1256   AAPL  2022-12-20 00:00:00+00:00  132.30  133.250  129.890  131.390   \n",
              "\n",
              "         volume  adjClose  adjHigh   adjLow  adjOpen  adjVolume  divCash  \\\n",
              "1252   82291182    143.21  146.655  141.160  145.350   82291182      0.0   \n",
              "1253   98931907    136.50  141.800  136.025  141.110   98931907      0.0   \n",
              "1254  160156900    134.51  137.650  133.730  136.685  160156900      0.0   \n",
              "1255   79592614    132.37  135.200  131.320  135.110   79592614      0.0   \n",
              "1256   77432819    132.30  133.250  129.890  131.390   77432819      0.0   \n",
              "\n",
              "      splitFactor  \n",
              "1252          1.0  \n",
              "1253          1.0  \n",
              "1254          1.0  \n",
              "1255          1.0  \n",
              "1256          1.0  "
            ],
            "text/html": [
              "\n",
              "  <div id=\"df-e6f822a1-8939-4f8d-8a15-0f96ced75388\">\n",
              "    <div class=\"colab-df-container\">\n",
              "      <div>\n",
              "<style scoped>\n",
              "    .dataframe tbody tr th:only-of-type {\n",
              "        vertical-align: middle;\n",
              "    }\n",
              "\n",
              "    .dataframe tbody tr th {\n",
              "        vertical-align: top;\n",
              "    }\n",
              "\n",
              "    .dataframe thead th {\n",
              "        text-align: right;\n",
              "    }\n",
              "</style>\n",
              "<table border=\"1\" class=\"dataframe\">\n",
              "  <thead>\n",
              "    <tr style=\"text-align: right;\">\n",
              "      <th></th>\n",
              "      <th>symbol</th>\n",
              "      <th>date</th>\n",
              "      <th>close</th>\n",
              "      <th>high</th>\n",
              "      <th>low</th>\n",
              "      <th>open</th>\n",
              "      <th>volume</th>\n",
              "      <th>adjClose</th>\n",
              "      <th>adjHigh</th>\n",
              "      <th>adjLow</th>\n",
              "      <th>adjOpen</th>\n",
              "      <th>adjVolume</th>\n",
              "      <th>divCash</th>\n",
              "      <th>splitFactor</th>\n",
              "    </tr>\n",
              "  </thead>\n",
              "  <tbody>\n",
              "    <tr>\n",
              "      <th>1252</th>\n",
              "      <td>AAPL</td>\n",
              "      <td>2022-12-14 00:00:00+00:00</td>\n",
              "      <td>143.21</td>\n",
              "      <td>146.655</td>\n",
              "      <td>141.160</td>\n",
              "      <td>145.350</td>\n",
              "      <td>82291182</td>\n",
              "      <td>143.21</td>\n",
              "      <td>146.655</td>\n",
              "      <td>141.160</td>\n",
              "      <td>145.350</td>\n",
              "      <td>82291182</td>\n",
              "      <td>0.0</td>\n",
              "      <td>1.0</td>\n",
              "    </tr>\n",
              "    <tr>\n",
              "      <th>1253</th>\n",
              "      <td>AAPL</td>\n",
              "      <td>2022-12-15 00:00:00+00:00</td>\n",
              "      <td>136.50</td>\n",
              "      <td>141.800</td>\n",
              "      <td>136.025</td>\n",
              "      <td>141.110</td>\n",
              "      <td>98931907</td>\n",
              "      <td>136.50</td>\n",
              "      <td>141.800</td>\n",
              "      <td>136.025</td>\n",
              "      <td>141.110</td>\n",
              "      <td>98931907</td>\n",
              "      <td>0.0</td>\n",
              "      <td>1.0</td>\n",
              "    </tr>\n",
              "    <tr>\n",
              "      <th>1254</th>\n",
              "      <td>AAPL</td>\n",
              "      <td>2022-12-16 00:00:00+00:00</td>\n",
              "      <td>134.51</td>\n",
              "      <td>137.650</td>\n",
              "      <td>133.730</td>\n",
              "      <td>136.685</td>\n",
              "      <td>160156900</td>\n",
              "      <td>134.51</td>\n",
              "      <td>137.650</td>\n",
              "      <td>133.730</td>\n",
              "      <td>136.685</td>\n",
              "      <td>160156900</td>\n",
              "      <td>0.0</td>\n",
              "      <td>1.0</td>\n",
              "    </tr>\n",
              "    <tr>\n",
              "      <th>1255</th>\n",
              "      <td>AAPL</td>\n",
              "      <td>2022-12-19 00:00:00+00:00</td>\n",
              "      <td>132.37</td>\n",
              "      <td>135.200</td>\n",
              "      <td>131.320</td>\n",
              "      <td>135.110</td>\n",
              "      <td>79592614</td>\n",
              "      <td>132.37</td>\n",
              "      <td>135.200</td>\n",
              "      <td>131.320</td>\n",
              "      <td>135.110</td>\n",
              "      <td>79592614</td>\n",
              "      <td>0.0</td>\n",
              "      <td>1.0</td>\n",
              "    </tr>\n",
              "    <tr>\n",
              "      <th>1256</th>\n",
              "      <td>AAPL</td>\n",
              "      <td>2022-12-20 00:00:00+00:00</td>\n",
              "      <td>132.30</td>\n",
              "      <td>133.250</td>\n",
              "      <td>129.890</td>\n",
              "      <td>131.390</td>\n",
              "      <td>77432819</td>\n",
              "      <td>132.30</td>\n",
              "      <td>133.250</td>\n",
              "      <td>129.890</td>\n",
              "      <td>131.390</td>\n",
              "      <td>77432819</td>\n",
              "      <td>0.0</td>\n",
              "      <td>1.0</td>\n",
              "    </tr>\n",
              "  </tbody>\n",
              "</table>\n",
              "</div>\n",
              "      <button class=\"colab-df-convert\" onclick=\"convertToInteractive('df-e6f822a1-8939-4f8d-8a15-0f96ced75388')\"\n",
              "              title=\"Convert this dataframe to an interactive table.\"\n",
              "              style=\"display:none;\">\n",
              "        \n",
              "  <svg xmlns=\"http://www.w3.org/2000/svg\" height=\"24px\"viewBox=\"0 0 24 24\"\n",
              "       width=\"24px\">\n",
              "    <path d=\"M0 0h24v24H0V0z\" fill=\"none\"/>\n",
              "    <path d=\"M18.56 5.44l.94 2.06.94-2.06 2.06-.94-2.06-.94-.94-2.06-.94 2.06-2.06.94zm-11 1L8.5 8.5l.94-2.06 2.06-.94-2.06-.94L8.5 2.5l-.94 2.06-2.06.94zm10 10l.94 2.06.94-2.06 2.06-.94-2.06-.94-.94-2.06-.94 2.06-2.06.94z\"/><path d=\"M17.41 7.96l-1.37-1.37c-.4-.4-.92-.59-1.43-.59-.52 0-1.04.2-1.43.59L10.3 9.45l-7.72 7.72c-.78.78-.78 2.05 0 2.83L4 21.41c.39.39.9.59 1.41.59.51 0 1.02-.2 1.41-.59l7.78-7.78 2.81-2.81c.8-.78.8-2.07 0-2.86zM5.41 20L4 18.59l7.72-7.72 1.47 1.35L5.41 20z\"/>\n",
              "  </svg>\n",
              "      </button>\n",
              "      \n",
              "  <style>\n",
              "    .colab-df-container {\n",
              "      display:flex;\n",
              "      flex-wrap:wrap;\n",
              "      gap: 12px;\n",
              "    }\n",
              "\n",
              "    .colab-df-convert {\n",
              "      background-color: #E8F0FE;\n",
              "      border: none;\n",
              "      border-radius: 50%;\n",
              "      cursor: pointer;\n",
              "      display: none;\n",
              "      fill: #1967D2;\n",
              "      height: 32px;\n",
              "      padding: 0 0 0 0;\n",
              "      width: 32px;\n",
              "    }\n",
              "\n",
              "    .colab-df-convert:hover {\n",
              "      background-color: #E2EBFA;\n",
              "      box-shadow: 0px 1px 2px rgba(60, 64, 67, 0.3), 0px 1px 3px 1px rgba(60, 64, 67, 0.15);\n",
              "      fill: #174EA6;\n",
              "    }\n",
              "\n",
              "    [theme=dark] .colab-df-convert {\n",
              "      background-color: #3B4455;\n",
              "      fill: #D2E3FC;\n",
              "    }\n",
              "\n",
              "    [theme=dark] .colab-df-convert:hover {\n",
              "      background-color: #434B5C;\n",
              "      box-shadow: 0px 1px 3px 1px rgba(0, 0, 0, 0.15);\n",
              "      filter: drop-shadow(0px 1px 2px rgba(0, 0, 0, 0.3));\n",
              "      fill: #FFFFFF;\n",
              "    }\n",
              "  </style>\n",
              "\n",
              "      <script>\n",
              "        const buttonEl =\n",
              "          document.querySelector('#df-e6f822a1-8939-4f8d-8a15-0f96ced75388 button.colab-df-convert');\n",
              "        buttonEl.style.display =\n",
              "          google.colab.kernel.accessAllowed ? 'block' : 'none';\n",
              "\n",
              "        async function convertToInteractive(key) {\n",
              "          const element = document.querySelector('#df-e6f822a1-8939-4f8d-8a15-0f96ced75388');\n",
              "          const dataTable =\n",
              "            await google.colab.kernel.invokeFunction('convertToInteractive',\n",
              "                                                     [key], {});\n",
              "          if (!dataTable) return;\n",
              "\n",
              "          const docLinkHtml = 'Like what you see? Visit the ' +\n",
              "            '<a target=\"_blank\" href=https://colab.research.google.com/notebooks/data_table.ipynb>data table notebook</a>'\n",
              "            + ' to learn more about interactive tables.';\n",
              "          element.innerHTML = '';\n",
              "          dataTable['output_type'] = 'display_data';\n",
              "          await google.colab.output.renderOutput(dataTable, element);\n",
              "          const docLink = document.createElement('div');\n",
              "          docLink.innerHTML = docLinkHtml;\n",
              "          element.appendChild(docLink);\n",
              "        }\n",
              "      </script>\n",
              "    </div>\n",
              "  </div>\n",
              "  "
            ]
          },
          "metadata": {},
          "execution_count": 7
        }
      ]
    },
    {
      "cell_type": "code",
      "source": [
        "df2 = df.reset_index()['close']"
      ],
      "metadata": {
        "id": "iS-5TDtKatO8"
      },
      "execution_count": 8,
      "outputs": []
    },
    {
      "cell_type": "code",
      "source": [
        "df2.shape"
      ],
      "metadata": {
        "colab": {
          "base_uri": "https://localhost:8080/"
        },
        "id": "EpzOEmyPb9UY",
        "outputId": "15fcdaaa-ebdb-47da-f8cc-04d49188dc45"
      },
      "execution_count": 9,
      "outputs": [
        {
          "output_type": "execute_result",
          "data": {
            "text/plain": [
              "(1257,)"
            ]
          },
          "metadata": {},
          "execution_count": 9
        }
      ]
    },
    {
      "cell_type": "code",
      "source": [
        "import matplotlib.pyplot as plt\n",
        "plt.plot(df2)"
      ],
      "metadata": {
        "colab": {
          "base_uri": "https://localhost:8080/",
          "height": 282
        },
        "id": "snyR8FYvbI5U",
        "outputId": "9cefd31e-efdf-44e6-f18e-ccbd253ab9fb"
      },
      "execution_count": 10,
      "outputs": [
        {
          "output_type": "execute_result",
          "data": {
            "text/plain": [
              "[<matplotlib.lines.Line2D at 0x7f06392ac760>]"
            ]
          },
          "metadata": {},
          "execution_count": 10
        },
        {
          "output_type": "display_data",
          "data": {
            "text/plain": [
              "<Figure size 432x288 with 1 Axes>"
            ],
            "image/png": "[encoded data removed]"
          },
          "metadata": {
            "needs_background": "light"
          }
        }
      ]
    },
    {
      "cell_type": "markdown",
      "source": [
        "**LSTM are so sensitive to the scale of the data . so we apply MinMax Scaler**"
      ],
      "metadata": {
        "id": "CPX0opwFe4m8"
      }
    },
    {
      "cell_type": "code",
      "source": [
        "import numpy as np"
      ],
      "metadata": {
        "id": "0rDYc468bMhV"
      },
      "execution_count": 11,
      "outputs": []
    },
    {
      "cell_type": "code",
      "source": [
        "from sklearn.preprocessing import MinMaxScaler\n",
        "scaler = MinMaxScaler(feature_range =(0,1))\n",
        "df2 = scaler.fit_transform(np.array(df2).reshape(-1,1))"
      ],
      "metadata": {
        "id": "mGrV6KPgfEzu"
      },
      "execution_count": 12,
      "outputs": []
    },
    {
      "cell_type": "code",
      "source": [
        "print(df2)"
      ],
      "metadata": {
        "colab": {
          "base_uri": "https://localhost:8080/"
        },
        "id": "80eKGA6rhoUF",
        "outputId": "9ffd1953-2f6f-4f77-94ae-08411720cbcb"
      },
      "execution_count": 13,
      "outputs": [
        {
          "output_type": "stream",
          "name": "stdout",
          "text": [
            "[[0.17074515]\n",
            " [0.1596243 ]\n",
            " [0.15969944]\n",
            " ...\n",
            " [0.06930495]\n",
            " [0.0639449 ]\n",
            " [0.06376957]]\n"
          ]
        }
      ]
    },
    {
      "cell_type": "markdown",
      "source": [
        "**Splitting dataset into train and test data**"
      ],
      "metadata": {
        "id": "N3nFQAUjiq4N"
      }
    },
    {
      "cell_type": "code",
      "source": [
        "training_size = int(len(df1)*0.65)\n",
        "test_size = len(df1) - training_size\n",
        "train_data, test_data = df2[0:training_size,:], df2[training_size:len(df2),:1]"
      ],
      "metadata": {
        "id": "sbU3Jv3Zh_Qq"
      },
      "execution_count": 14,
      "outputs": []
    },
    {
      "cell_type": "code",
      "source": [
        "#convert an array of values into a dataset matrix\n",
        "import numpy\n",
        "def create_dataset(dataset, time_step = 1):\n",
        "  dataX, dataY = [], [];\n",
        "  for i in range(len(dataset) - time_step-1):\n",
        "    a = dataset[i:(i + time_step), 0]\n",
        "    dataX.append(a)\n",
        "    dataY.append(dataset[i +  time_step, 0 ])\n",
        "  return numpy.array(dataX), numpy.array(dataY)"
      ],
      "metadata": {
        "id": "DW7bxvvljRlt"
      },
      "execution_count": 15,
      "outputs": []
    },
    {
      "cell_type": "code",
      "source": [
        "# reshape into X=t , t+1 , t+3 and Y = t+4\n",
        "time_step = 100\n",
        "X_train , y_train = create_dataset(train_data , time_step)\n",
        "X_test , y_test = create_dataset(test_data , time_step)"
      ],
      "metadata": {
        "id": "5KQ7VQ4LzZSI"
      },
      "execution_count": 16,
      "outputs": []
    },
    {
      "cell_type": "code",
      "source": [
        "print(X_train)"
      ],
      "metadata": {
        "colab": {
          "base_uri": "https://localhost:8080/"
        },
        "id": "LCsMd89X0FYE",
        "outputId": "1c65d085-3013-4e5d-9eff-5c2ecf5612e5"
      },
      "execution_count": 17,
      "outputs": [
        {
          "output_type": "stream",
          "name": "stdout",
          "text": [
            "[[0.17074515 0.1596243  0.15969944 ... 0.19937383 0.203732   0.20075141]\n",
            " [0.1596243  0.15969944 0.16090169 ... 0.203732   0.20075141 0.19904822]\n",
            " [0.15969944 0.16090169 0.156268   ... 0.20075141 0.19904822 0.20235441]\n",
            " ...\n",
            " [0.02053851 0.02056356 0.02444584 ... 0.04691296 0.04488416 0.03428929]\n",
            " [0.02056356 0.02444584 0.01092048 ... 0.04488416 0.03428929 0.03293676]\n",
            " [0.02444584 0.01092048 0.02123982 ... 0.03428929 0.03293676 0.04145272]]\n"
          ]
        }
      ]
    },
    {
      "cell_type": "code",
      "source": [
        "print(X_train.shape) , print(y_train.shape)"
      ],
      "metadata": {
        "colab": {
          "base_uri": "https://localhost:8080/"
        },
        "id": "SgPER7vx2g8e",
        "outputId": "8c20fbe6-7ddc-4584-881c-426295f1bcd3"
      },
      "execution_count": 18,
      "outputs": [
        {
          "output_type": "stream",
          "name": "stdout",
          "text": [
            "(716, 100)\n",
            "(716,)\n"
          ]
        },
        {
          "output_type": "execute_result",
          "data": {
            "text/plain": [
              "(None, None)"
            ]
          },
          "metadata": {},
          "execution_count": 18
        }
      ]
    },
    {
      "cell_type": "code",
      "source": [
        "print(X_test.shape) , print(y_test.shape)"
      ],
      "metadata": {
        "colab": {
          "base_uri": "https://localhost:8080/"
        },
        "id": "0Q9P7OMg0V2S",
        "outputId": "7ced5057-5388-4dc9-9233-d66c7d3085ec"
      },
      "execution_count": 19,
      "outputs": [
        {
          "output_type": "stream",
          "name": "stdout",
          "text": [
            "(339, 100)\n",
            "(339,)\n"
          ]
        },
        {
          "output_type": "execute_result",
          "data": {
            "text/plain": [
              "(None, None)"
            ]
          },
          "metadata": {},
          "execution_count": 19
        }
      ]
    },
    {
      "cell_type": "code",
      "source": [
        "# reshape input to be [samples , time steps , features] which is required for LSTM \n",
        "X_train = X_train.reshape(X_train.shape[0], X_train.shape[1], 1)\n",
        "X_test = X_test.reshape(X_test.shape[0], X_test.shape[1], 1)\n"
      ],
      "metadata": {
        "id": "SC-5YigW1-YV"
      },
      "execution_count": 20,
      "outputs": []
    },
    {
      "cell_type": "code",
      "source": [
        "#create the LSTM model\n",
        "from tensorflow.keras.models import Sequential\n",
        "from tensorflow.keras.layers import Dense\n",
        "from tensorflow.keras.layers import LSTM"
      ],
      "metadata": {
        "id": "77Z4g6bJ9rM5"
      },
      "execution_count": 21,
      "outputs": []
    },
    {
      "cell_type": "code",
      "source": [
        "model = Sequential()\n",
        "model.add(LSTM(50 , return_sequences=True , input_shape =(100,1)))\n",
        "model.add(LSTM(50 , return_sequences=True))\n",
        "model.add(LSTM(50))\n",
        "model.add(Dense(1))\n",
        "model.compile(loss='mean_squared_error', optimizer = 'adam')"
      ],
      "metadata": {
        "id": "NbBLcY7K-Ew8"
      },
      "execution_count": 22,
      "outputs": []
    },
    {
      "cell_type": "code",
      "source": [
        "model.summary()"
      ],
      "metadata": {
        "colab": {
          "base_uri": "https://localhost:8080/"
        },
        "id": "t-XGYgWr-q__",
        "outputId": "e2e99a5c-ff14-488a-817a-77f7b27dcd0d"
      },
      "execution_count": 23,
      "outputs": [
        {
          "output_type": "stream",
          "name": "stdout",
          "text": [
            "Model: \"sequential\"\n",
            "_________________________________________________________________\n",
            " Layer (type)                Output Shape              Param #   \n",
            "=================================================================\n",
            " lstm (LSTM)                 (None, 100, 50)           10400     \n",
            "                                                                 \n",
            " lstm_1 (LSTM)               (None, 100, 50)           20200     \n",
            "                                                                 \n",
            " lstm_2 (LSTM)               (None, 50)                20200     \n",
            "                                                                 \n",
            " dense (Dense)               (None, 1)                 51        \n",
            "                                                                 \n",
            "=================================================================\n",
            "Total params: 50,851\n",
            "Trainable params: 50,851\n",
            "Non-trainable params: 0\n",
            "_________________________________________________________________\n"
          ]
        }
      ]
    },
    {
      "cell_type": "code",
      "source": [
        "model.fit(X_train , y_train , validation_data = (X_test,y_test), epochs = 100 , batch_size = 64 , verbose = 1)"
      ],
      "metadata": {
        "id": "mnK1kQXg-umd"
      },
      "execution_count": null,
      "outputs": []
    },
    {
      "cell_type": "code",
      "source": [
        "import tensorflow as tf"
      ],
      "metadata": {
        "id": "Ns4nZotr_NVm"
      },
      "execution_count": 25,
      "outputs": []
    },
    {
      "cell_type": "code",
      "source": [
        "tf.__version__"
      ],
      "metadata": {
        "colab": {
          "base_uri": "https://localhost:8080/",
          "height": 36
        },
        "id": "4PQB0MxyDmZR",
        "outputId": "733ba724-c19d-4df4-9d3b-2ff175617856"
      },
      "execution_count": 26,
      "outputs": [
        {
          "output_type": "execute_result",
          "data": {
            "text/plain": [
              "'2.9.2'"
            ],
            "application/vnd.google.colaboratory.intrinsic+json": {
              "type": "string"
            }
          },
          "metadata": {},
          "execution_count": 26
        }
      ]
    },
    {
      "cell_type": "code",
      "source": [
        "### lets do the prediction and check the performance metrics\n",
        "train_predict = model.predict(X_train)\n",
        "test_predict = model.predict(X_test)"
      ],
      "metadata": {
        "colab": {
          "base_uri": "https://localhost:8080/"
        },
        "id": "aZnDM-SMDpKF",
        "outputId": "f6306716-8f2f-49c6-e39f-629abf231402"
      },
      "execution_count": 27,
      "outputs": [
        {
          "output_type": "stream",
          "name": "stdout",
          "text": [
            "23/23 [==============================] - 3s 38ms/step\n",
            "11/11 [==============================] - 0s 39ms/step\n"
          ]
        }
      ]
    },
    {
      "cell_type": "code",
      "source": [
        "## Transform back to original form\n",
        "train_predict = scaler.inverse_transform(train_predict)\n",
        "test_predict = scaler.inverse_transform(test_predict)"
      ],
      "metadata": {
        "id": "vVKFahpND-FI"
      },
      "execution_count": 28,
      "outputs": []
    },
    {
      "cell_type": "code",
      "source": [
        "## calculate RMSE performance metrics\n",
        "import math \n",
        "from sklearn.metrics import mean_squared_error\n",
        "math.sqrt(mean_squared_error(y_train,train_predict))"
      ],
      "metadata": {
        "colab": {
          "base_uri": "https://localhost:8080/"
        },
        "id": "s8OZ_5__ERPV",
        "outputId": "85a8b942-f817-4b00-f780-e5049543e0ea"
      },
      "execution_count": 29,
      "outputs": [
        {
          "output_type": "execute_result",
          "data": {
            "text/plain": [
              "231.11803195598688"
            ]
          },
          "metadata": {},
          "execution_count": 29
        }
      ]
    },
    {
      "cell_type": "code",
      "source": [
        "### test data RMSE\n",
        "math.sqrt(mean_squared_error(y_test , test_predict))"
      ],
      "metadata": {
        "colab": {
          "base_uri": "https://localhost:8080/"
        },
        "id": "GqOnKoT7Eqmh",
        "outputId": "632fa73a-b1a7-40c9-b289-4537a7e68149"
      },
      "execution_count": 30,
      "outputs": [
        {
          "output_type": "execute_result",
          "data": {
            "text/plain": [
              "155.36212208985444"
            ]
          },
          "metadata": {},
          "execution_count": 30
        }
      ]
    },
    {
      "cell_type": "code",
      "source": [
        "#### Plotting\n",
        "\n",
        "# shift train predictions for plotting\n",
        "look_back = 100 \n",
        "trainPredictPlot = numpy.empty_like(df2)\n",
        "trainPredictPlot[:, :] = np.nan\n",
        "trainPredictPlot[look_back: len(train_predict)+ look_back, :] = train_predict\n",
        "\n",
        "# shift test predictions for plotting\n",
        "testPredict_plot = numpy.empty_like(df2)\n",
        "testPredict_plot[:, :] = numpy.nan\n",
        "testPredict_plot[len(train_predict) + (look_back*2) + 1 : len(df2) - 1, :] = test_predict\n",
        "\n",
        "#plot baseline and predictions \n",
        "plt.plot(scaler.inverse_transform(df2))\n",
        "plt.plot(trainPredictPlot)\n",
        "plt.plot(testPredict_plot)\n",
        "plt.show()\n"
      ],
      "metadata": {
        "colab": {
          "base_uri": "https://localhost:8080/",
          "height": 265
        },
        "id": "hy5KkN97E3oC",
        "outputId": "230b1bb9-3f80-4e1b-d962-0ca2e2ae5cd3"
      },
      "execution_count": 32,
      "outputs": [
        {
          "output_type": "display_data",
          "data": {
            "text/plain": [
              "<Figure size 432x288 with 1 Axes>"
            ],
            "image/png": "[encoded data removed]"
          },
          "metadata": {
            "needs_background": "light"
          }
        }
      ]
    },
    {
      "cell_type": "code",
      "source": [
        "x_input = test_data[341:].reshape(1,-1)\n",
        "x_input.shape"
      ],
      "metadata": {
        "colab": {
          "base_uri": "https://localhost:8080/"
        },
        "id": "-0QNe8CYHZB3",
        "outputId": "96c90189-2772-47ac-cdbe-f92933fdbdc7"
      },
      "execution_count": 34,
      "outputs": [
        {
          "output_type": "execute_result",
          "data": {
            "text/plain": [
              "(1, 99)"
            ]
          },
          "metadata": {},
          "execution_count": 34
        }
      ]
    },
    {
      "cell_type": "code",
      "source": [
        "temp_input = list(x_input)\n",
        "temp_input = temp_input[0].tolist()"
      ],
      "metadata": {
        "id": "OiKdQXcZKCd2"
      },
      "execution_count": 36,
      "outputs": []
    },
    {
      "cell_type": "code",
      "source": [
        "# demonstrate prediction for next 10 days\n",
        "from numpy import array\n",
        "\n",
        "lst_output = []\n",
        "n_steps = 99\n",
        "i = 0;\n",
        "while(i < 30):\n",
        "\n",
        "  if(len(temp_input) > 99):\n",
        "    #print(temp_input)\n",
        "    x_input = np.array(temp_input[1:])\n",
        "    print(\"{} day input {} \".format(i,x_input))\n",
        "    x_input = x_input.reshape(1,-1)\n",
        "    x_input = x_input.reshape((1, n_steps , 1))\n",
        "    #print(x_input)\n",
        "    yhat = model.predict(x_input , verbose = 0)\n",
        "    print(\"{} day output {} \".format(i,yhat))\n",
        "    temp_input.extend(yhat[0].tolist())\n",
        "    temp_input = temp_input[1:]\n",
        "    #print(temp_input)\n",
        "    lst_output.extend(yhat.tolist())\n",
        "    i = i + 1\n",
        "\n",
        "  else:\n",
        "    x_input = x_input.reshape((1, n_steps , 1))\n",
        "    yhat = model.predict(x_input , verbose = 0)\n",
        "    print(yhat[0])\n",
        "    temp_input.extend(yhat[0].tolist())\n",
        "    print(len(temp_input))\n",
        "    lst_output.extend(yhat.tolist())\n",
        "    i = i + 1\n",
        "\n",
        "print(lst_output)"
      ],
      "metadata": {
        "colab": {
          "base_uri": "https://localhost:8080/"
        },
        "id": "_LM8v2I9KPJ-",
        "outputId": "dec176a5-8664-4c1d-ec32-d8bb2d99ddb3"
      },
      "execution_count": 39,
      "outputs": [
        {
          "output_type": "stream",
          "name": "stdout",
          "text": [
            "[0.0837525]\n",
            "100\n",
            "1 day input [0.14850344 0.14770194 0.14654978 0.14534753 0.14547276 0.15629305\n",
            " 0.15441453 0.16345648 0.1661866  0.16578585 0.16959299 0.16859111\n",
            " 0.16200376 0.15211021 0.15125861 0.15201002 0.15827176 0.14221666\n",
            " 0.13660614 0.13041954 0.1261866  0.12804008 0.12265498 0.11944897\n",
            " 0.12303068 0.11927364 0.1265623  0.14174076 0.11772073 0.12140263\n",
            " 0.11403882 0.10985598 0.11932373 0.1253851  0.11742016 0.11496556\n",
            " 0.10917971 0.11003131 0.11251096 0.10770194 0.08926738 0.07854728\n",
            " 0.08919224 0.09833438 0.09908579 0.09665623 0.08328115 0.0841077\n",
            " 0.08050094 0.07889793 0.09054477 0.07899812 0.08909205 0.09244834\n",
            " 0.09272386 0.09154665 0.10126487 0.10672511 0.11396368 0.10647464\n",
            " 0.09507827 0.12247965 0.11646838 0.10973075 0.09565435 0.08025047\n",
            " 0.07899812 0.08035066 0.08180338 0.07020664 0.10026299 0.10735128\n",
            " 0.10379461 0.10820288 0.10507201 0.10990607 0.11133375 0.10311835\n",
            " 0.10855354 0.11078272 0.10336882 0.09362555 0.08598622 0.10316844\n",
            " 0.10386976 0.10261741 0.09966187 0.0903444  0.08541014 0.08969317\n",
            " 0.08846587 0.09430182 0.09675642 0.0910958  0.07428929 0.06930495\n",
            " 0.0639449  0.06376957 0.0837525 ] \n",
            "1 day output [[0.08109586]] \n",
            "2 day input [0.14770194 0.14654978 0.14534753 0.14547276 0.15629305 0.15441453\n",
            " 0.16345648 0.1661866  0.16578585 0.16959299 0.16859111 0.16200376\n",
            " 0.15211021 0.15125861 0.15201002 0.15827176 0.14221666 0.13660614\n",
            " 0.13041954 0.1261866  0.12804008 0.12265498 0.11944897 0.12303068\n",
            " 0.11927364 0.1265623  0.14174076 0.11772073 0.12140263 0.11403882\n",
            " 0.10985598 0.11932373 0.1253851  0.11742016 0.11496556 0.10917971\n",
            " 0.11003131 0.11251096 0.10770194 0.08926738 0.07854728 0.08919224\n",
            " 0.09833438 0.09908579 0.09665623 0.08328115 0.0841077  0.08050094\n",
            " 0.07889793 0.09054477 0.07899812 0.08909205 0.09244834 0.09272386\n",
            " 0.09154665 0.10126487 0.10672511 0.11396368 0.10647464 0.09507827\n",
            " 0.12247965 0.11646838 0.10973075 0.09565435 0.08025047 0.07899812\n",
            " 0.08035066 0.08180338 0.07020664 0.10026299 0.10735128 0.10379461\n",
            " 0.10820288 0.10507201 0.10990607 0.11133375 0.10311835 0.10855354\n",
            " 0.11078272 0.10336882 0.09362555 0.08598622 0.10316844 0.10386976\n",
            " 0.10261741 0.09966187 0.0903444  0.08541014 0.08969317 0.08846587\n",
            " 0.09430182 0.09675642 0.0910958  0.07428929 0.06930495 0.0639449\n",
            " 0.06376957 0.0837525  0.08109586] \n",
            "2 day output [[0.07956044]] \n",
            "3 day input [0.14654978 0.14534753 0.14547276 0.15629305 0.15441453 0.16345648\n",
            " 0.1661866  0.16578585 0.16959299 0.16859111 0.16200376 0.15211021\n",
            " 0.15125861 0.15201002 0.15827176 0.14221666 0.13660614 0.13041954\n",
            " 0.1261866  0.12804008 0.12265498 0.11944897 0.12303068 0.11927364\n",
            " 0.1265623  0.14174076 0.11772073 0.12140263 0.11403882 0.10985598\n",
            " 0.11932373 0.1253851  0.11742016 0.11496556 0.10917971 0.11003131\n",
            " 0.11251096 0.10770194 0.08926738 0.07854728 0.08919224 0.09833438\n",
            " 0.09908579 0.09665623 0.08328115 0.0841077  0.08050094 0.07889793\n",
            " 0.09054477 0.07899812 0.08909205 0.09244834 0.09272386 0.09154665\n",
            " 0.10126487 0.10672511 0.11396368 0.10647464 0.09507827 0.12247965\n",
            " 0.11646838 0.10973075 0.09565435 0.08025047 0.07899812 0.08035066\n",
            " 0.08180338 0.07020664 0.10026299 0.10735128 0.10379461 0.10820288\n",
            " 0.10507201 0.10990607 0.11133375 0.10311835 0.10855354 0.11078272\n",
            " 0.10336882 0.09362555 0.08598622 0.10316844 0.10386976 0.10261741\n",
            " 0.09966187 0.0903444  0.08541014 0.08969317 0.08846587 0.09430182\n",
            " 0.09675642 0.0910958  0.07428929 0.06930495 0.0639449  0.06376957\n",
            " 0.0837525  0.08109586 0.07956044] \n",
            "3 day output [[0.07888611]] \n",
            "4 day input [0.14534753 0.14547276 0.15629305 0.15441453 0.16345648 0.1661866\n",
            " 0.16578585 0.16959299 0.16859111 0.16200376 0.15211021 0.15125861\n",
            " 0.15201002 0.15827176 0.14221666 0.13660614 0.13041954 0.1261866\n",
            " 0.12804008 0.12265498 0.11944897 0.12303068 0.11927364 0.1265623\n",
            " 0.14174076 0.11772073 0.12140263 0.11403882 0.10985598 0.11932373\n",
            " 0.1253851  0.11742016 0.11496556 0.10917971 0.11003131 0.11251096\n",
            " 0.10770194 0.08926738 0.07854728 0.08919224 0.09833438 0.09908579\n",
            " 0.09665623 0.08328115 0.0841077  0.08050094 0.07889793 0.09054477\n",
            " 0.07899812 0.08909205 0.09244834 0.09272386 0.09154665 0.10126487\n",
            " 0.10672511 0.11396368 0.10647464 0.09507827 0.12247965 0.11646838\n",
            " 0.10973075 0.09565435 0.08025047 0.07899812 0.08035066 0.08180338\n",
            " 0.07020664 0.10026299 0.10735128 0.10379461 0.10820288 0.10507201\n",
            " 0.10990607 0.11133375 0.10311835 0.10855354 0.11078272 0.10336882\n",
            " 0.09362555 0.08598622 0.10316844 0.10386976 0.10261741 0.09966187\n",
            " 0.0903444  0.08541014 0.08969317 0.08846587 0.09430182 0.09675642\n",
            " 0.0910958  0.07428929 0.06930495 0.0639449  0.06376957 0.0837525\n",
            " 0.08109586 0.07956044 0.07888611] \n",
            "4 day output [[0.0787515]] \n",
            "5 day input [0.14547276 0.15629305 0.15441453 0.16345648 0.1661866  0.16578585\n",
            " 0.16959299 0.16859111 0.16200376 0.15211021 0.15125861 0.15201002\n",
            " 0.15827176 0.14221666 0.13660614 0.13041954 0.1261866  0.12804008\n",
            " 0.12265498 0.11944897 0.12303068 0.11927364 0.1265623  0.14174076\n",
            " 0.11772073 0.12140263 0.11403882 0.10985598 0.11932373 0.1253851\n",
            " 0.11742016 0.11496556 0.10917971 0.11003131 0.11251096 0.10770194\n",
            " 0.08926738 0.07854728 0.08919224 0.09833438 0.09908579 0.09665623\n",
            " 0.08328115 0.0841077  0.08050094 0.07889793 0.09054477 0.07899812\n",
            " 0.08909205 0.09244834 0.09272386 0.09154665 0.10126487 0.10672511\n",
            " 0.11396368 0.10647464 0.09507827 0.12247965 0.11646838 0.10973075\n",
            " 0.09565435 0.08025047 0.07899812 0.08035066 0.08180338 0.07020664\n",
            " 0.10026299 0.10735128 0.10379461 0.10820288 0.10507201 0.10990607\n",
            " 0.11133375 0.10311835 0.10855354 0.11078272 0.10336882 0.09362555\n",
            " 0.08598622 0.10316844 0.10386976 0.10261741 0.09966187 0.0903444\n",
            " 0.08541014 0.08969317 0.08846587 0.09430182 0.09675642 0.0910958\n",
            " 0.07428929 0.06930495 0.0639449  0.06376957 0.0837525  0.08109586\n",
            " 0.07956044 0.07888611 0.0787515 ] \n",
            "5 day output [[0.07890585]] \n",
            "6 day input [0.15629305 0.15441453 0.16345648 0.1661866  0.16578585 0.16959299\n",
            " 0.16859111 0.16200376 0.15211021 0.15125861 0.15201002 0.15827176\n",
            " 0.14221666 0.13660614 0.13041954 0.1261866  0.12804008 0.12265498\n",
            " 0.11944897 0.12303068 0.11927364 0.1265623  0.14174076 0.11772073\n",
            " 0.12140263 0.11403882 0.10985598 0.11932373 0.1253851  0.11742016\n",
            " 0.11496556 0.10917971 0.11003131 0.11251096 0.10770194 0.08926738\n",
            " 0.07854728 0.08919224 0.09833438 0.09908579 0.09665623 0.08328115\n",
            " 0.0841077  0.08050094 0.07889793 0.09054477 0.07899812 0.08909205\n",
            " 0.09244834 0.09272386 0.09154665 0.10126487 0.10672511 0.11396368\n",
            " 0.10647464 0.09507827 0.12247965 0.11646838 0.10973075 0.09565435\n",
            " 0.08025047 0.07899812 0.08035066 0.08180338 0.07020664 0.10026299\n",
            " 0.10735128 0.10379461 0.10820288 0.10507201 0.10990607 0.11133375\n",
            " 0.10311835 0.10855354 0.11078272 0.10336882 0.09362555 0.08598622\n",
            " 0.10316844 0.10386976 0.10261741 0.09966187 0.0903444  0.08541014\n",
            " 0.08969317 0.08846587 0.09430182 0.09675642 0.0910958  0.07428929\n",
            " 0.06930495 0.0639449  0.06376957 0.0837525  0.08109586 0.07956044\n",
            " 0.07888611 0.0787515  0.07890585] \n",
            "6 day output [[0.07918976]] \n",
            "7 day input [0.15441453 0.16345648 0.1661866  0.16578585 0.16959299 0.16859111\n",
            " 0.16200376 0.15211021 0.15125861 0.15201002 0.15827176 0.14221666\n",
            " 0.13660614 0.13041954 0.1261866  0.12804008 0.12265498 0.11944897\n",
            " 0.12303068 0.11927364 0.1265623  0.14174076 0.11772073 0.12140263\n",
            " 0.11403882 0.10985598 0.11932373 0.1253851  0.11742016 0.11496556\n",
            " 0.10917971 0.11003131 0.11251096 0.10770194 0.08926738 0.07854728\n",
            " 0.08919224 0.09833438 0.09908579 0.09665623 0.08328115 0.0841077\n",
            " 0.08050094 0.07889793 0.09054477 0.07899812 0.08909205 0.09244834\n",
            " 0.09272386 0.09154665 0.10126487 0.10672511 0.11396368 0.10647464\n",
            " 0.09507827 0.12247965 0.11646838 0.10973075 0.09565435 0.08025047\n",
            " 0.07899812 0.08035066 0.08180338 0.07020664 0.10026299 0.10735128\n",
            " 0.10379461 0.10820288 0.10507201 0.10990607 0.11133375 0.10311835\n",
            " 0.10855354 0.11078272 0.10336882 0.09362555 0.08598622 0.10316844\n",
            " 0.10386976 0.10261741 0.09966187 0.0903444  0.08541014 0.08969317\n",
            " 0.08846587 0.09430182 0.09675642 0.0910958  0.07428929 0.06930495\n",
            " 0.0639449  0.06376957 0.0837525  0.08109586 0.07956044 0.07888611\n",
            " 0.0787515  0.07890585 0.07918976] \n",
            "7 day output [[0.07951683]] \n",
            "8 day input [0.16345648 0.1661866  0.16578585 0.16959299 0.16859111 0.16200376\n",
            " 0.15211021 0.15125861 0.15201002 0.15827176 0.14221666 0.13660614\n",
            " 0.13041954 0.1261866  0.12804008 0.12265498 0.11944897 0.12303068\n",
            " 0.11927364 0.1265623  0.14174076 0.11772073 0.12140263 0.11403882\n",
            " 0.10985598 0.11932373 0.1253851  0.11742016 0.11496556 0.10917971\n",
            " 0.11003131 0.11251096 0.10770194 0.08926738 0.07854728 0.08919224\n",
            " 0.09833438 0.09908579 0.09665623 0.08328115 0.0841077  0.08050094\n",
            " 0.07889793 0.09054477 0.07899812 0.08909205 0.09244834 0.09272386\n",
            " 0.09154665 0.10126487 0.10672511 0.11396368 0.10647464 0.09507827\n",
            " 0.12247965 0.11646838 0.10973075 0.09565435 0.08025047 0.07899812\n",
            " 0.08035066 0.08180338 0.07020664 0.10026299 0.10735128 0.10379461\n",
            " 0.10820288 0.10507201 0.10990607 0.11133375 0.10311835 0.10855354\n",
            " 0.11078272 0.10336882 0.09362555 0.08598622 0.10316844 0.10386976\n",
            " 0.10261741 0.09966187 0.0903444  0.08541014 0.08969317 0.08846587\n",
            " 0.09430182 0.09675642 0.0910958  0.07428929 0.06930495 0.0639449\n",
            " 0.06376957 0.0837525  0.08109586 0.07956044 0.07888611 0.0787515\n",
            " 0.07890585 0.07918976 0.07951683] \n",
            "8 day output [[0.07984807]] \n",
            "9 day input [0.1661866  0.16578585 0.16959299 0.16859111 0.16200376 0.15211021\n",
            " 0.15125861 0.15201002 0.15827176 0.14221666 0.13660614 0.13041954\n",
            " 0.1261866  0.12804008 0.12265498 0.11944897 0.12303068 0.11927364\n",
            " 0.1265623  0.14174076 0.11772073 0.12140263 0.11403882 0.10985598\n",
            " 0.11932373 0.1253851  0.11742016 0.11496556 0.10917971 0.11003131\n",
            " 0.11251096 0.10770194 0.08926738 0.07854728 0.08919224 0.09833438\n",
            " 0.09908579 0.09665623 0.08328115 0.0841077  0.08050094 0.07889793\n",
            " 0.09054477 0.07899812 0.08909205 0.09244834 0.09272386 0.09154665\n",
            " 0.10126487 0.10672511 0.11396368 0.10647464 0.09507827 0.12247965\n",
            " 0.11646838 0.10973075 0.09565435 0.08025047 0.07899812 0.08035066\n",
            " 0.08180338 0.07020664 0.10026299 0.10735128 0.10379461 0.10820288\n",
            " 0.10507201 0.10990607 0.11133375 0.10311835 0.10855354 0.11078272\n",
            " 0.10336882 0.09362555 0.08598622 0.10316844 0.10386976 0.10261741\n",
            " 0.09966187 0.0903444  0.08541014 0.08969317 0.08846587 0.09430182\n",
            " 0.09675642 0.0910958  0.07428929 0.06930495 0.0639449  0.06376957\n",
            " 0.0837525  0.08109586 0.07956044 0.07888611 0.0787515  0.07890585\n",
            " 0.07918976 0.07951683 0.07984807] \n",
            "9 day output [[0.08017106]] \n",
            "10 day input [0.16578585 0.16959299 0.16859111 0.16200376 0.15211021 0.15125861\n",
            " 0.15201002 0.15827176 0.14221666 0.13660614 0.13041954 0.1261866\n",
            " 0.12804008 0.12265498 0.11944897 0.12303068 0.11927364 0.1265623\n",
            " 0.14174076 0.11772073 0.12140263 0.11403882 0.10985598 0.11932373\n",
            " 0.1253851  0.11742016 0.11496556 0.10917971 0.11003131 0.11251096\n",
            " 0.10770194 0.08926738 0.07854728 0.08919224 0.09833438 0.09908579\n",
            " 0.09665623 0.08328115 0.0841077  0.08050094 0.07889793 0.09054477\n",
            " 0.07899812 0.08909205 0.09244834 0.09272386 0.09154665 0.10126487\n",
            " 0.10672511 0.11396368 0.10647464 0.09507827 0.12247965 0.11646838\n",
            " 0.10973075 0.09565435 0.08025047 0.07899812 0.08035066 0.08180338\n",
            " 0.07020664 0.10026299 0.10735128 0.10379461 0.10820288 0.10507201\n",
            " 0.10990607 0.11133375 0.10311835 0.10855354 0.11078272 0.10336882\n",
            " 0.09362555 0.08598622 0.10316844 0.10386976 0.10261741 0.09966187\n",
            " 0.0903444  0.08541014 0.08969317 0.08846587 0.09430182 0.09675642\n",
            " 0.0910958  0.07428929 0.06930495 0.0639449  0.06376957 0.0837525\n",
            " 0.08109586 0.07956044 0.07888611 0.0787515  0.07890585 0.07918976\n",
            " 0.07951683 0.07984807 0.08017106] \n",
            "10 day output [[0.08048595]] \n",
            "11 day input [0.16959299 0.16859111 0.16200376 0.15211021 0.15125861 0.15201002\n",
            " 0.15827176 0.14221666 0.13660614 0.13041954 0.1261866  0.12804008\n",
            " 0.12265498 0.11944897 0.12303068 0.11927364 0.1265623  0.14174076\n",
            " 0.11772073 0.12140263 0.11403882 0.10985598 0.11932373 0.1253851\n",
            " 0.11742016 0.11496556 0.10917971 0.11003131 0.11251096 0.10770194\n",
            " 0.08926738 0.07854728 0.08919224 0.09833438 0.09908579 0.09665623\n",
            " 0.08328115 0.0841077  0.08050094 0.07889793 0.09054477 0.07899812\n",
            " 0.08909205 0.09244834 0.09272386 0.09154665 0.10126487 0.10672511\n",
            " 0.11396368 0.10647464 0.09507827 0.12247965 0.11646838 0.10973075\n",
            " 0.09565435 0.08025047 0.07899812 0.08035066 0.08180338 0.07020664\n",
            " 0.10026299 0.10735128 0.10379461 0.10820288 0.10507201 0.10990607\n",
            " 0.11133375 0.10311835 0.10855354 0.11078272 0.10336882 0.09362555\n",
            " 0.08598622 0.10316844 0.10386976 0.10261741 0.09966187 0.0903444\n",
            " 0.08541014 0.08969317 0.08846587 0.09430182 0.09675642 0.0910958\n",
            " 0.07428929 0.06930495 0.0639449  0.06376957 0.0837525  0.08109586\n",
            " 0.07956044 0.07888611 0.0787515  0.07890585 0.07918976 0.07951683\n",
            " 0.07984807 0.08017106 0.08048595] \n",
            "11 day output [[0.0807974]] \n",
            "12 day input [0.16859111 0.16200376 0.15211021 0.15125861 0.15201002 0.15827176\n",
            " 0.14221666 0.13660614 0.13041954 0.1261866  0.12804008 0.12265498\n",
            " 0.11944897 0.12303068 0.11927364 0.1265623  0.14174076 0.11772073\n",
            " 0.12140263 0.11403882 0.10985598 0.11932373 0.1253851  0.11742016\n",
            " 0.11496556 0.10917971 0.11003131 0.11251096 0.10770194 0.08926738\n",
            " 0.07854728 0.08919224 0.09833438 0.09908579 0.09665623 0.08328115\n",
            " 0.0841077  0.08050094 0.07889793 0.09054477 0.07899812 0.08909205\n",
            " 0.09244834 0.09272386 0.09154665 0.10126487 0.10672511 0.11396368\n",
            " 0.10647464 0.09507827 0.12247965 0.11646838 0.10973075 0.09565435\n",
            " 0.08025047 0.07899812 0.08035066 0.08180338 0.07020664 0.10026299\n",
            " 0.10735128 0.10379461 0.10820288 0.10507201 0.10990607 0.11133375\n",
            " 0.10311835 0.10855354 0.11078272 0.10336882 0.09362555 0.08598622\n",
            " 0.10316844 0.10386976 0.10261741 0.09966187 0.0903444  0.08541014\n",
            " 0.08969317 0.08846587 0.09430182 0.09675642 0.0910958  0.07428929\n",
            " 0.06930495 0.0639449  0.06376957 0.0837525  0.08109586 0.07956044\n",
            " 0.07888611 0.0787515  0.07890585 0.07918976 0.07951683 0.07984807\n",
            " 0.08017106 0.08048595 0.0807974 ] \n",
            "12 day output [[0.08111051]] \n",
            "13 day input [0.16200376 0.15211021 0.15125861 0.15201002 0.15827176 0.14221666\n",
            " 0.13660614 0.13041954 0.1261866  0.12804008 0.12265498 0.11944897\n",
            " 0.12303068 0.11927364 0.1265623  0.14174076 0.11772073 0.12140263\n",
            " 0.11403882 0.10985598 0.11932373 0.1253851  0.11742016 0.11496556\n",
            " 0.10917971 0.11003131 0.11251096 0.10770194 0.08926738 0.07854728\n",
            " 0.08919224 0.09833438 0.09908579 0.09665623 0.08328115 0.0841077\n",
            " 0.08050094 0.07889793 0.09054477 0.07899812 0.08909205 0.09244834\n",
            " 0.09272386 0.09154665 0.10126487 0.10672511 0.11396368 0.10647464\n",
            " 0.09507827 0.12247965 0.11646838 0.10973075 0.09565435 0.08025047\n",
            " 0.07899812 0.08035066 0.08180338 0.07020664 0.10026299 0.10735128\n",
            " 0.10379461 0.10820288 0.10507201 0.10990607 0.11133375 0.10311835\n",
            " 0.10855354 0.11078272 0.10336882 0.09362555 0.08598622 0.10316844\n",
            " 0.10386976 0.10261741 0.09966187 0.0903444  0.08541014 0.08969317\n",
            " 0.08846587 0.09430182 0.09675642 0.0910958  0.07428929 0.06930495\n",
            " 0.0639449  0.06376957 0.0837525  0.08109586 0.07956044 0.07888611\n",
            " 0.0787515  0.07890585 0.07918976 0.07951683 0.07984807 0.08017106\n",
            " 0.08048595 0.0807974  0.08111051] \n",
            "13 day output [[0.081429]] \n",
            "14 day input [0.15211021 0.15125861 0.15201002 0.15827176 0.14221666 0.13660614\n",
            " 0.13041954 0.1261866  0.12804008 0.12265498 0.11944897 0.12303068\n",
            " 0.11927364 0.1265623  0.14174076 0.11772073 0.12140263 0.11403882\n",
            " 0.10985598 0.11932373 0.1253851  0.11742016 0.11496556 0.10917971\n",
            " 0.11003131 0.11251096 0.10770194 0.08926738 0.07854728 0.08919224\n",
            " 0.09833438 0.09908579 0.09665623 0.08328115 0.0841077  0.08050094\n",
            " 0.07889793 0.09054477 0.07899812 0.08909205 0.09244834 0.09272386\n",
            " 0.09154665 0.10126487 0.10672511 0.11396368 0.10647464 0.09507827\n",
            " 0.12247965 0.11646838 0.10973075 0.09565435 0.08025047 0.07899812\n",
            " 0.08035066 0.08180338 0.07020664 0.10026299 0.10735128 0.10379461\n",
            " 0.10820288 0.10507201 0.10990607 0.11133375 0.10311835 0.10855354\n",
            " 0.11078272 0.10336882 0.09362555 0.08598622 0.10316844 0.10386976\n",
            " 0.10261741 0.09966187 0.0903444  0.08541014 0.08969317 0.08846587\n",
            " 0.09430182 0.09675642 0.0910958  0.07428929 0.06930495 0.0639449\n",
            " 0.06376957 0.0837525  0.08109586 0.07956044 0.07888611 0.0787515\n",
            " 0.07890585 0.07918976 0.07951683 0.07984807 0.08017106 0.08048595\n",
            " 0.0807974  0.08111051 0.081429  ] \n",
            "14 day output [[0.08175486]] \n",
            "15 day input [0.15125861 0.15201002 0.15827176 0.14221666 0.13660614 0.13041954\n",
            " 0.1261866  0.12804008 0.12265498 0.11944897 0.12303068 0.11927364\n",
            " 0.1265623  0.14174076 0.11772073 0.12140263 0.11403882 0.10985598\n",
            " 0.11932373 0.1253851  0.11742016 0.11496556 0.10917971 0.11003131\n",
            " 0.11251096 0.10770194 0.08926738 0.07854728 0.08919224 0.09833438\n",
            " 0.09908579 0.09665623 0.08328115 0.0841077  0.08050094 0.07889793\n",
            " 0.09054477 0.07899812 0.08909205 0.09244834 0.09272386 0.09154665\n",
            " 0.10126487 0.10672511 0.11396368 0.10647464 0.09507827 0.12247965\n",
            " 0.11646838 0.10973075 0.09565435 0.08025047 0.07899812 0.08035066\n",
            " 0.08180338 0.07020664 0.10026299 0.10735128 0.10379461 0.10820288\n",
            " 0.10507201 0.10990607 0.11133375 0.10311835 0.10855354 0.11078272\n",
            " 0.10336882 0.09362555 0.08598622 0.10316844 0.10386976 0.10261741\n",
            " 0.09966187 0.0903444  0.08541014 0.08969317 0.08846587 0.09430182\n",
            " 0.09675642 0.0910958  0.07428929 0.06930495 0.0639449  0.06376957\n",
            " 0.0837525  0.08109586 0.07956044 0.07888611 0.0787515  0.07890585\n",
            " 0.07918976 0.07951683 0.07984807 0.08017106 0.08048595 0.0807974\n",
            " 0.08111051 0.081429   0.08175486] \n",
            "15 day output [[0.08208832]] \n",
            "16 day input [0.15201002 0.15827176 0.14221666 0.13660614 0.13041954 0.1261866\n",
            " 0.12804008 0.12265498 0.11944897 0.12303068 0.11927364 0.1265623\n",
            " 0.14174076 0.11772073 0.12140263 0.11403882 0.10985598 0.11932373\n",
            " 0.1253851  0.11742016 0.11496556 0.10917971 0.11003131 0.11251096\n",
            " 0.10770194 0.08926738 0.07854728 0.08919224 0.09833438 0.09908579\n",
            " 0.09665623 0.08328115 0.0841077  0.08050094 0.07889793 0.09054477\n",
            " 0.07899812 0.08909205 0.09244834 0.09272386 0.09154665 0.10126487\n",
            " 0.10672511 0.11396368 0.10647464 0.09507827 0.12247965 0.11646838\n",
            " 0.10973075 0.09565435 0.08025047 0.07899812 0.08035066 0.08180338\n",
            " 0.07020664 0.10026299 0.10735128 0.10379461 0.10820288 0.10507201\n",
            " 0.10990607 0.11133375 0.10311835 0.10855354 0.11078272 0.10336882\n",
            " 0.09362555 0.08598622 0.10316844 0.10386976 0.10261741 0.09966187\n",
            " 0.0903444  0.08541014 0.08969317 0.08846587 0.09430182 0.09675642\n",
            " 0.0910958  0.07428929 0.06930495 0.0639449  0.06376957 0.0837525\n",
            " 0.08109586 0.07956044 0.07888611 0.0787515  0.07890585 0.07918976\n",
            " 0.07951683 0.07984807 0.08017106 0.08048595 0.0807974  0.08111051\n",
            " 0.081429   0.08175486 0.08208832] \n",
            "16 day output [[0.0824282]] \n",
            "17 day input [0.15827176 0.14221666 0.13660614 0.13041954 0.1261866  0.12804008\n",
            " 0.12265498 0.11944897 0.12303068 0.11927364 0.1265623  0.14174076\n",
            " 0.11772073 0.12140263 0.11403882 0.10985598 0.11932373 0.1253851\n",
            " 0.11742016 0.11496556 0.10917971 0.11003131 0.11251096 0.10770194\n",
            " 0.08926738 0.07854728 0.08919224 0.09833438 0.09908579 0.09665623\n",
            " 0.08328115 0.0841077  0.08050094 0.07889793 0.09054477 0.07899812\n",
            " 0.08909205 0.09244834 0.09272386 0.09154665 0.10126487 0.10672511\n",
            " 0.11396368 0.10647464 0.09507827 0.12247965 0.11646838 0.10973075\n",
            " 0.09565435 0.08025047 0.07899812 0.08035066 0.08180338 0.07020664\n",
            " 0.10026299 0.10735128 0.10379461 0.10820288 0.10507201 0.10990607\n",
            " 0.11133375 0.10311835 0.10855354 0.11078272 0.10336882 0.09362555\n",
            " 0.08598622 0.10316844 0.10386976 0.10261741 0.09966187 0.0903444\n",
            " 0.08541014 0.08969317 0.08846587 0.09430182 0.09675642 0.0910958\n",
            " 0.07428929 0.06930495 0.0639449  0.06376957 0.0837525  0.08109586\n",
            " 0.07956044 0.07888611 0.0787515  0.07890585 0.07918976 0.07951683\n",
            " 0.07984807 0.08017106 0.08048595 0.0807974  0.08111051 0.081429\n",
            " 0.08175486 0.08208832 0.0824282 ] \n",
            "17 day output [[0.08277237]] \n",
            "18 day input [0.14221666 0.13660614 0.13041954 0.1261866  0.12804008 0.12265498\n",
            " 0.11944897 0.12303068 0.11927364 0.1265623  0.14174076 0.11772073\n",
            " 0.12140263 0.11403882 0.10985598 0.11932373 0.1253851  0.11742016\n",
            " 0.11496556 0.10917971 0.11003131 0.11251096 0.10770194 0.08926738\n",
            " 0.07854728 0.08919224 0.09833438 0.09908579 0.09665623 0.08328115\n",
            " 0.0841077  0.08050094 0.07889793 0.09054477 0.07899812 0.08909205\n",
            " 0.09244834 0.09272386 0.09154665 0.10126487 0.10672511 0.11396368\n",
            " 0.10647464 0.09507827 0.12247965 0.11646838 0.10973075 0.09565435\n",
            " 0.08025047 0.07899812 0.08035066 0.08180338 0.07020664 0.10026299\n",
            " 0.10735128 0.10379461 0.10820288 0.10507201 0.10990607 0.11133375\n",
            " 0.10311835 0.10855354 0.11078272 0.10336882 0.09362555 0.08598622\n",
            " 0.10316844 0.10386976 0.10261741 0.09966187 0.0903444  0.08541014\n",
            " 0.08969317 0.08846587 0.09430182 0.09675642 0.0910958  0.07428929\n",
            " 0.06930495 0.0639449  0.06376957 0.0837525  0.08109586 0.07956044\n",
            " 0.07888611 0.0787515  0.07890585 0.07918976 0.07951683 0.07984807\n",
            " 0.08017106 0.08048595 0.0807974  0.08111051 0.081429   0.08175486\n",
            " 0.08208832 0.0824282  0.08277237] \n",
            "18 day output [[0.08311814]] \n",
            "19 day input [0.13660614 0.13041954 0.1261866  0.12804008 0.12265498 0.11944897\n",
            " 0.12303068 0.11927364 0.1265623  0.14174076 0.11772073 0.12140263\n",
            " 0.11403882 0.10985598 0.11932373 0.1253851  0.11742016 0.11496556\n",
            " 0.10917971 0.11003131 0.11251096 0.10770194 0.08926738 0.07854728\n",
            " 0.08919224 0.09833438 0.09908579 0.09665623 0.08328115 0.0841077\n",
            " 0.08050094 0.07889793 0.09054477 0.07899812 0.08909205 0.09244834\n",
            " 0.09272386 0.09154665 0.10126487 0.10672511 0.11396368 0.10647464\n",
            " 0.09507827 0.12247965 0.11646838 0.10973075 0.09565435 0.08025047\n",
            " 0.07899812 0.08035066 0.08180338 0.07020664 0.10026299 0.10735128\n",
            " 0.10379461 0.10820288 0.10507201 0.10990607 0.11133375 0.10311835\n",
            " 0.10855354 0.11078272 0.10336882 0.09362555 0.08598622 0.10316844\n",
            " 0.10386976 0.10261741 0.09966187 0.0903444  0.08541014 0.08969317\n",
            " 0.08846587 0.09430182 0.09675642 0.0910958  0.07428929 0.06930495\n",
            " 0.0639449  0.06376957 0.0837525  0.08109586 0.07956044 0.07888611\n",
            " 0.0787515  0.07890585 0.07918976 0.07951683 0.07984807 0.08017106\n",
            " 0.08048595 0.0807974  0.08111051 0.081429   0.08175486 0.08208832\n",
            " 0.0824282  0.08277237 0.08311814] \n",
            "19 day output [[0.08346256]] \n",
            "20 day input [0.13041954 0.1261866  0.12804008 0.12265498 0.11944897 0.12303068\n",
            " 0.11927364 0.1265623  0.14174076 0.11772073 0.12140263 0.11403882\n",
            " 0.10985598 0.11932373 0.1253851  0.11742016 0.11496556 0.10917971\n",
            " 0.11003131 0.11251096 0.10770194 0.08926738 0.07854728 0.08919224\n",
            " 0.09833438 0.09908579 0.09665623 0.08328115 0.0841077  0.08050094\n",
            " 0.07889793 0.09054477 0.07899812 0.08909205 0.09244834 0.09272386\n",
            " 0.09154665 0.10126487 0.10672511 0.11396368 0.10647464 0.09507827\n",
            " 0.12247965 0.11646838 0.10973075 0.09565435 0.08025047 0.07899812\n",
            " 0.08035066 0.08180338 0.07020664 0.10026299 0.10735128 0.10379461\n",
            " 0.10820288 0.10507201 0.10990607 0.11133375 0.10311835 0.10855354\n",
            " 0.11078272 0.10336882 0.09362555 0.08598622 0.10316844 0.10386976\n",
            " 0.10261741 0.09966187 0.0903444  0.08541014 0.08969317 0.08846587\n",
            " 0.09430182 0.09675642 0.0910958  0.07428929 0.06930495 0.0639449\n",
            " 0.06376957 0.0837525  0.08109586 0.07956044 0.07888611 0.0787515\n",
            " 0.07890585 0.07918976 0.07951683 0.07984807 0.08017106 0.08048595\n",
            " 0.0807974  0.08111051 0.081429   0.08175486 0.08208832 0.0824282\n",
            " 0.08277237 0.08311814 0.08346256] \n",
            "20 day output [[0.0838028]] \n",
            "21 day input [0.1261866  0.12804008 0.12265498 0.11944897 0.12303068 0.11927364\n",
            " 0.1265623  0.14174076 0.11772073 0.12140263 0.11403882 0.10985598\n",
            " 0.11932373 0.1253851  0.11742016 0.11496556 0.10917971 0.11003131\n",
            " 0.11251096 0.10770194 0.08926738 0.07854728 0.08919224 0.09833438\n",
            " 0.09908579 0.09665623 0.08328115 0.0841077  0.08050094 0.07889793\n",
            " 0.09054477 0.07899812 0.08909205 0.09244834 0.09272386 0.09154665\n",
            " 0.10126487 0.10672511 0.11396368 0.10647464 0.09507827 0.12247965\n",
            " 0.11646838 0.10973075 0.09565435 0.08025047 0.07899812 0.08035066\n",
            " 0.08180338 0.07020664 0.10026299 0.10735128 0.10379461 0.10820288\n",
            " 0.10507201 0.10990607 0.11133375 0.10311835 0.10855354 0.11078272\n",
            " 0.10336882 0.09362555 0.08598622 0.10316844 0.10386976 0.10261741\n",
            " 0.09966187 0.0903444  0.08541014 0.08969317 0.08846587 0.09430182\n",
            " 0.09675642 0.0910958  0.07428929 0.06930495 0.0639449  0.06376957\n",
            " 0.0837525  0.08109586 0.07956044 0.07888611 0.0787515  0.07890585\n",
            " 0.07918976 0.07951683 0.07984807 0.08017106 0.08048595 0.0807974\n",
            " 0.08111051 0.081429   0.08175486 0.08208832 0.0824282  0.08277237\n",
            " 0.08311814 0.08346256 0.0838028 ] \n",
            "21 day output [[0.08413632]] \n",
            "22 day input [0.12804008 0.12265498 0.11944897 0.12303068 0.11927364 0.1265623\n",
            " 0.14174076 0.11772073 0.12140263 0.11403882 0.10985598 0.11932373\n",
            " 0.1253851  0.11742016 0.11496556 0.10917971 0.11003131 0.11251096\n",
            " 0.10770194 0.08926738 0.07854728 0.08919224 0.09833438 0.09908579\n",
            " 0.09665623 0.08328115 0.0841077  0.08050094 0.07889793 0.09054477\n",
            " 0.07899812 0.08909205 0.09244834 0.09272386 0.09154665 0.10126487\n",
            " 0.10672511 0.11396368 0.10647464 0.09507827 0.12247965 0.11646838\n",
            " 0.10973075 0.09565435 0.08025047 0.07899812 0.08035066 0.08180338\n",
            " 0.07020664 0.10026299 0.10735128 0.10379461 0.10820288 0.10507201\n",
            " 0.10990607 0.11133375 0.10311835 0.10855354 0.11078272 0.10336882\n",
            " 0.09362555 0.08598622 0.10316844 0.10386976 0.10261741 0.09966187\n",
            " 0.0903444  0.08541014 0.08969317 0.08846587 0.09430182 0.09675642\n",
            " 0.0910958  0.07428929 0.06930495 0.0639449  0.06376957 0.0837525\n",
            " 0.08109586 0.07956044 0.07888611 0.0787515  0.07890585 0.07918976\n",
            " 0.07951683 0.07984807 0.08017106 0.08048595 0.0807974  0.08111051\n",
            " 0.081429   0.08175486 0.08208832 0.0824282  0.08277237 0.08311814\n",
            " 0.08346256 0.0838028  0.08413632] \n",
            "22 day output [[0.08446102]] \n",
            "23 day input [0.12265498 0.11944897 0.12303068 0.11927364 0.1265623  0.14174076\n",
            " 0.11772073 0.12140263 0.11403882 0.10985598 0.11932373 0.1253851\n",
            " 0.11742016 0.11496556 0.10917971 0.11003131 0.11251096 0.10770194\n",
            " 0.08926738 0.07854728 0.08919224 0.09833438 0.09908579 0.09665623\n",
            " 0.08328115 0.0841077  0.08050094 0.07889793 0.09054477 0.07899812\n",
            " 0.08909205 0.09244834 0.09272386 0.09154665 0.10126487 0.10672511\n",
            " 0.11396368 0.10647464 0.09507827 0.12247965 0.11646838 0.10973075\n",
            " 0.09565435 0.08025047 0.07899812 0.08035066 0.08180338 0.07020664\n",
            " 0.10026299 0.10735128 0.10379461 0.10820288 0.10507201 0.10990607\n",
            " 0.11133375 0.10311835 0.10855354 0.11078272 0.10336882 0.09362555\n",
            " 0.08598622 0.10316844 0.10386976 0.10261741 0.09966187 0.0903444\n",
            " 0.08541014 0.08969317 0.08846587 0.09430182 0.09675642 0.0910958\n",
            " 0.07428929 0.06930495 0.0639449  0.06376957 0.0837525  0.08109586\n",
            " 0.07956044 0.07888611 0.0787515  0.07890585 0.07918976 0.07951683\n",
            " 0.07984807 0.08017106 0.08048595 0.0807974  0.08111051 0.081429\n",
            " 0.08175486 0.08208832 0.0824282  0.08277237 0.08311814 0.08346256\n",
            " 0.0838028  0.08413632 0.08446102] \n",
            "23 day output [[0.08477546]] \n",
            "24 day input [0.11944897 0.12303068 0.11927364 0.1265623  0.14174076 0.11772073\n",
            " 0.12140263 0.11403882 0.10985598 0.11932373 0.1253851  0.11742016\n",
            " 0.11496556 0.10917971 0.11003131 0.11251096 0.10770194 0.08926738\n",
            " 0.07854728 0.08919224 0.09833438 0.09908579 0.09665623 0.08328115\n",
            " 0.0841077  0.08050094 0.07889793 0.09054477 0.07899812 0.08909205\n",
            " 0.09244834 0.09272386 0.09154665 0.10126487 0.10672511 0.11396368\n",
            " 0.10647464 0.09507827 0.12247965 0.11646838 0.10973075 0.09565435\n",
            " 0.08025047 0.07899812 0.08035066 0.08180338 0.07020664 0.10026299\n",
            " 0.10735128 0.10379461 0.10820288 0.10507201 0.10990607 0.11133375\n",
            " 0.10311835 0.10855354 0.11078272 0.10336882 0.09362555 0.08598622\n",
            " 0.10316844 0.10386976 0.10261741 0.09966187 0.0903444  0.08541014\n",
            " 0.08969317 0.08846587 0.09430182 0.09675642 0.0910958  0.07428929\n",
            " 0.06930495 0.0639449  0.06376957 0.0837525  0.08109586 0.07956044\n",
            " 0.07888611 0.0787515  0.07890585 0.07918976 0.07951683 0.07984807\n",
            " 0.08017106 0.08048595 0.0807974  0.08111051 0.081429   0.08175486\n",
            " 0.08208832 0.0824282  0.08277237 0.08311814 0.08346256 0.0838028\n",
            " 0.08413632 0.08446102 0.08477546] \n",
            "24 day output [[0.08507872]] \n",
            "25 day input [0.12303068 0.11927364 0.1265623  0.14174076 0.11772073 0.12140263\n",
            " 0.11403882 0.10985598 0.11932373 0.1253851  0.11742016 0.11496556\n",
            " 0.10917971 0.11003131 0.11251096 0.10770194 0.08926738 0.07854728\n",
            " 0.08919224 0.09833438 0.09908579 0.09665623 0.08328115 0.0841077\n",
            " 0.08050094 0.07889793 0.09054477 0.07899812 0.08909205 0.09244834\n",
            " 0.09272386 0.09154665 0.10126487 0.10672511 0.11396368 0.10647464\n",
            " 0.09507827 0.12247965 0.11646838 0.10973075 0.09565435 0.08025047\n",
            " 0.07899812 0.08035066 0.08180338 0.07020664 0.10026299 0.10735128\n",
            " 0.10379461 0.10820288 0.10507201 0.10990607 0.11133375 0.10311835\n",
            " 0.10855354 0.11078272 0.10336882 0.09362555 0.08598622 0.10316844\n",
            " 0.10386976 0.10261741 0.09966187 0.0903444  0.08541014 0.08969317\n",
            " 0.08846587 0.09430182 0.09675642 0.0910958  0.07428929 0.06930495\n",
            " 0.0639449  0.06376957 0.0837525  0.08109586 0.07956044 0.07888611\n",
            " 0.0787515  0.07890585 0.07918976 0.07951683 0.07984807 0.08017106\n",
            " 0.08048595 0.0807974  0.08111051 0.081429   0.08175486 0.08208832\n",
            " 0.0824282  0.08277237 0.08311814 0.08346256 0.0838028  0.08413632\n",
            " 0.08446102 0.08477546 0.08507872] \n",
            "25 day output [[0.08537043]] \n",
            "26 day input [0.11927364 0.1265623  0.14174076 0.11772073 0.12140263 0.11403882\n",
            " 0.10985598 0.11932373 0.1253851  0.11742016 0.11496556 0.10917971\n",
            " 0.11003131 0.11251096 0.10770194 0.08926738 0.07854728 0.08919224\n",
            " 0.09833438 0.09908579 0.09665623 0.08328115 0.0841077  0.08050094\n",
            " 0.07889793 0.09054477 0.07899812 0.08909205 0.09244834 0.09272386\n",
            " 0.09154665 0.10126487 0.10672511 0.11396368 0.10647464 0.09507827\n",
            " 0.12247965 0.11646838 0.10973075 0.09565435 0.08025047 0.07899812\n",
            " 0.08035066 0.08180338 0.07020664 0.10026299 0.10735128 0.10379461\n",
            " 0.10820288 0.10507201 0.10990607 0.11133375 0.10311835 0.10855354\n",
            " 0.11078272 0.10336882 0.09362555 0.08598622 0.10316844 0.10386976\n",
            " 0.10261741 0.09966187 0.0903444  0.08541014 0.08969317 0.08846587\n",
            " 0.09430182 0.09675642 0.0910958  0.07428929 0.06930495 0.0639449\n",
            " 0.06376957 0.0837525  0.08109586 0.07956044 0.07888611 0.0787515\n",
            " 0.07890585 0.07918976 0.07951683 0.07984807 0.08017106 0.08048595\n",
            " 0.0807974  0.08111051 0.081429   0.08175486 0.08208832 0.0824282\n",
            " 0.08277237 0.08311814 0.08346256 0.0838028  0.08413632 0.08446102\n",
            " 0.08477546 0.08507872 0.08537043] \n",
            "26 day output [[0.08565077]] \n",
            "27 day input [0.1265623  0.14174076 0.11772073 0.12140263 0.11403882 0.10985598\n",
            " 0.11932373 0.1253851  0.11742016 0.11496556 0.10917971 0.11003131\n",
            " 0.11251096 0.10770194 0.08926738 0.07854728 0.08919224 0.09833438\n",
            " 0.09908579 0.09665623 0.08328115 0.0841077  0.08050094 0.07889793\n",
            " 0.09054477 0.07899812 0.08909205 0.09244834 0.09272386 0.09154665\n",
            " 0.10126487 0.10672511 0.11396368 0.10647464 0.09507827 0.12247965\n",
            " 0.11646838 0.10973075 0.09565435 0.08025047 0.07899812 0.08035066\n",
            " 0.08180338 0.07020664 0.10026299 0.10735128 0.10379461 0.10820288\n",
            " 0.10507201 0.10990607 0.11133375 0.10311835 0.10855354 0.11078272\n",
            " 0.10336882 0.09362555 0.08598622 0.10316844 0.10386976 0.10261741\n",
            " 0.09966187 0.0903444  0.08541014 0.08969317 0.08846587 0.09430182\n",
            " 0.09675642 0.0910958  0.07428929 0.06930495 0.0639449  0.06376957\n",
            " 0.0837525  0.08109586 0.07956044 0.07888611 0.0787515  0.07890585\n",
            " 0.07918976 0.07951683 0.07984807 0.08017106 0.08048595 0.0807974\n",
            " 0.08111051 0.081429   0.08175486 0.08208832 0.0824282  0.08277237\n",
            " 0.08311814 0.08346256 0.0838028  0.08413632 0.08446102 0.08477546\n",
            " 0.08507872 0.08537043 0.08565077] \n",
            "27 day output [[0.08592034]] \n",
            "28 day input [0.14174076 0.11772073 0.12140263 0.11403882 0.10985598 0.11932373\n",
            " 0.1253851  0.11742016 0.11496556 0.10917971 0.11003131 0.11251096\n",
            " 0.10770194 0.08926738 0.07854728 0.08919224 0.09833438 0.09908579\n",
            " 0.09665623 0.08328115 0.0841077  0.08050094 0.07889793 0.09054477\n",
            " 0.07899812 0.08909205 0.09244834 0.09272386 0.09154665 0.10126487\n",
            " 0.10672511 0.11396368 0.10647464 0.09507827 0.12247965 0.11646838\n",
            " 0.10973075 0.09565435 0.08025047 0.07899812 0.08035066 0.08180338\n",
            " 0.07020664 0.10026299 0.10735128 0.10379461 0.10820288 0.10507201\n",
            " 0.10990607 0.11133375 0.10311835 0.10855354 0.11078272 0.10336882\n",
            " 0.09362555 0.08598622 0.10316844 0.10386976 0.10261741 0.09966187\n",
            " 0.0903444  0.08541014 0.08969317 0.08846587 0.09430182 0.09675642\n",
            " 0.0910958  0.07428929 0.06930495 0.0639449  0.06376957 0.0837525\n",
            " 0.08109586 0.07956044 0.07888611 0.0787515  0.07890585 0.07918976\n",
            " 0.07951683 0.07984807 0.08017106 0.08048595 0.0807974  0.08111051\n",
            " 0.081429   0.08175486 0.08208832 0.0824282  0.08277237 0.08311814\n",
            " 0.08346256 0.0838028  0.08413632 0.08446102 0.08477546 0.08507872\n",
            " 0.08537043 0.08565077 0.08592034] \n",
            "28 day output [[0.08617997]] \n",
            "29 day input [0.11772073 0.12140263 0.11403882 0.10985598 0.11932373 0.1253851\n",
            " 0.11742016 0.11496556 0.10917971 0.11003131 0.11251096 0.10770194\n",
            " 0.08926738 0.07854728 0.08919224 0.09833438 0.09908579 0.09665623\n",
            " 0.08328115 0.0841077  0.08050094 0.07889793 0.09054477 0.07899812\n",
            " 0.08909205 0.09244834 0.09272386 0.09154665 0.10126487 0.10672511\n",
            " 0.11396368 0.10647464 0.09507827 0.12247965 0.11646838 0.10973075\n",
            " 0.09565435 0.08025047 0.07899812 0.08035066 0.08180338 0.07020664\n",
            " 0.10026299 0.10735128 0.10379461 0.10820288 0.10507201 0.10990607\n",
            " 0.11133375 0.10311835 0.10855354 0.11078272 0.10336882 0.09362555\n",
            " 0.08598622 0.10316844 0.10386976 0.10261741 0.09966187 0.0903444\n",
            " 0.08541014 0.08969317 0.08846587 0.09430182 0.09675642 0.0910958\n",
            " 0.07428929 0.06930495 0.0639449  0.06376957 0.0837525  0.08109586\n",
            " 0.07956044 0.07888611 0.0787515  0.07890585 0.07918976 0.07951683\n",
            " 0.07984807 0.08017106 0.08048595 0.0807974  0.08111051 0.081429\n",
            " 0.08175486 0.08208832 0.0824282  0.08277237 0.08311814 0.08346256\n",
            " 0.0838028  0.08413632 0.08446102 0.08477546 0.08507872 0.08537043\n",
            " 0.08565077 0.08592034 0.08617997] \n",
            "29 day output [[0.08643076]] \n",
            "[[0.08375249803066254], [0.0810958594083786], [0.07956044375896454], [0.07888611406087875], [0.07875150442123413], [0.07890585064888], [0.07918976247310638], [0.07951682806015015], [0.07984806597232819], [0.08017105609178543], [0.08048595488071442], [0.08079740405082703], [0.08111050724983215], [0.08142899721860886], [0.08175485581159592], [0.08208832144737244], [0.08242820203304291], [0.08277237415313721], [0.08311814069747925], [0.08346255868673325], [0.08380279690027237], [0.08413632214069366], [0.0844610184431076], [0.08477546274662018], [0.08507872372865677], [0.08537042886018753], [0.08565077185630798], [0.08592034131288528], [0.08617997169494629], [0.08643075823783875]]\n"
          ]
        }
      ]
    },
    {
      "cell_type": "code",
      "source": [
        "day_new = np.arange(1,100)\n",
        "day_pred = np.arange(100,131)"
      ],
      "metadata": {
        "id": "kFOsA4XENcHC"
      },
      "execution_count": 40,
      "outputs": []
    },
    {
      "cell_type": "code",
      "source": [
        "import matplotlib.pyplot as plt"
      ],
      "metadata": {
        "id": "HGtR-s8LN_2S"
      },
      "execution_count": 41,
      "outputs": []
    },
    {
      "cell_type": "code",
      "source": [
        "len(df2)"
      ],
      "metadata": {
        "colab": {
          "base_uri": "https://localhost:8080/"
        },
        "id": "8kqb3FTvOD_o",
        "outputId": "c2fb4ef0-f48a-4cb7-8692-0d97d0440c46"
      },
      "execution_count": 42,
      "outputs": [
        {
          "output_type": "execute_result",
          "data": {
            "text/plain": [
              "1257"
            ]
          },
          "metadata": {},
          "execution_count": 42
        }
      ]
    },
    {
      "cell_type": "code",
      "source": [
        "df3 = df2.tolist()\n",
        "df3.extend(lst_output)"
      ],
      "metadata": {
        "id": "28XWZJ13OFnu"
      },
      "execution_count": 43,
      "outputs": []
    },
    {
      "cell_type": "code",
      "source": [
        "plt.plot(day_new, scaler.inverse_transform(df2[1158:]))\n",
        "plt.plot(day_pred, scaler.inverse_transform(lst_output))"
      ],
      "metadata": {
        "colab": {
          "base_uri": "https://localhost:8080/",
          "height": 576
        },
        "id": "NB5V42GYOTat",
        "outputId": "1f5ce7fe-47b2-4907-e269-b00bc9500ff3"
      },
      "execution_count": 47,
      "outputs": [
        {
          "output_type": "error",
          "ename": "ValueError",
          "evalue": "ignored",
          "traceback": [
            "\u001b[0;31m---------------------------------------------------------------------------\u001b[0m",
            "\u001b[0;31mValueError\u001b[0m                                Traceback (most recent call last)",
            "\u001b[0;32m<ipython-input-47-6b784ff298ba>\u001b[0m in \u001b[0;36m<module>\u001b[0;34m\u001b[0m\n\u001b[1;32m      1\u001b[0m \u001b[0mplt\u001b[0m\u001b[0;34m.\u001b[0m\u001b[0mplot\u001b[0m\u001b[0;34m(\u001b[0m\u001b[0mday_new\u001b[0m\u001b[0;34m,\u001b[0m \u001b[0mscaler\u001b[0m\u001b[0;34m.\u001b[0m\u001b[0minverse_transform\u001b[0m\u001b[0;34m(\u001b[0m\u001b[0mdf2\u001b[0m\u001b[0;34m[\u001b[0m\u001b[0;36m1158\u001b[0m\u001b[0;34m:\u001b[0m\u001b[0;34m]\u001b[0m\u001b[0;34m)\u001b[0m\u001b[0;34m)\u001b[0m\u001b[0;34m\u001b[0m\u001b[0;34m\u001b[0m\u001b[0m\n\u001b[0;32m----> 2\u001b[0;31m \u001b[0mplt\u001b[0m\u001b[0;34m.\u001b[0m\u001b[0mplot\u001b[0m\u001b[0;34m(\u001b[0m\u001b[0mday_pred\u001b[0m\u001b[0;34m,\u001b[0m \u001b[0mscaler\u001b[0m\u001b[0;34m.\u001b[0m\u001b[0minverse_transform\u001b[0m\u001b[0;34m(\u001b[0m\u001b[0mlst_output\u001b[0m\u001b[0;34m)\u001b[0m\u001b[0;34m)\u001b[0m\u001b[0;34m\u001b[0m\u001b[0;34m\u001b[0m\u001b[0m\n\u001b[0m",
            "\u001b[0;32m/usr/local/lib/python3.8/dist-packages/matplotlib/pyplot.py\u001b[0m in \u001b[0;36mplot\u001b[0;34m(scalex, scaley, data, *args, **kwargs)\u001b[0m\n\u001b[1;32m   2759\u001b[0m \u001b[0;34m@\u001b[0m\u001b[0mdocstring\u001b[0m\u001b[0;34m.\u001b[0m\u001b[0mcopy\u001b[0m\u001b[0;34m(\u001b[0m\u001b[0mAxes\u001b[0m\u001b[0;34m.\u001b[0m\u001b[0mplot\u001b[0m\u001b[0;34m)\u001b[0m\u001b[0;34m\u001b[0m\u001b[0;34m\u001b[0m\u001b[0m\n\u001b[1;32m   2760\u001b[0m \u001b[0;32mdef\u001b[0m \u001b[0mplot\u001b[0m\u001b[0;34m(\u001b[0m\u001b[0;34m*\u001b[0m\u001b[0margs\u001b[0m\u001b[0;34m,\u001b[0m \u001b[0mscalex\u001b[0m\u001b[0;34m=\u001b[0m\u001b[0;32mTrue\u001b[0m\u001b[0;34m,\u001b[0m \u001b[0mscaley\u001b[0m\u001b[0;34m=\u001b[0m\u001b[0;32mTrue\u001b[0m\u001b[0;34m,\u001b[0m \u001b[0mdata\u001b[0m\u001b[0;34m=\u001b[0m\u001b[0;32mNone\u001b[0m\u001b[0;34m,\u001b[0m \u001b[0;34m**\u001b[0m\u001b[0mkwargs\u001b[0m\u001b[0;34m)\u001b[0m\u001b[0;34m:\u001b[0m\u001b[0;34m\u001b[0m\u001b[0;34m\u001b[0m\u001b[0m\n\u001b[0;32m-> 2761\u001b[0;31m     return gca().plot(\n\u001b[0m\u001b[1;32m   2762\u001b[0m         *args, scalex=scalex, scaley=scaley, **({\"data\": data} if data\n\u001b[1;32m   2763\u001b[0m         is not None else {}), **kwargs)\n",
            "\u001b[0;32m/usr/local/lib/python3.8/dist-packages/matplotlib/axes/_axes.py\u001b[0m in \u001b[0;36mplot\u001b[0;34m(self, scalex, scaley, data, *args, **kwargs)\u001b[0m\n\u001b[1;32m   1645\u001b[0m         \"\"\"\n\u001b[1;32m   1646\u001b[0m         \u001b[0mkwargs\u001b[0m \u001b[0;34m=\u001b[0m \u001b[0mcbook\u001b[0m\u001b[0;34m.\u001b[0m\u001b[0mnormalize_kwargs\u001b[0m\u001b[0;34m(\u001b[0m\u001b[0mkwargs\u001b[0m\u001b[0;34m,\u001b[0m \u001b[0mmlines\u001b[0m\u001b[0;34m.\u001b[0m\u001b[0mLine2D\u001b[0m\u001b[0;34m)\u001b[0m\u001b[0;34m\u001b[0m\u001b[0;34m\u001b[0m\u001b[0m\n\u001b[0;32m-> 1647\u001b[0;31m         \u001b[0mlines\u001b[0m \u001b[0;34m=\u001b[0m \u001b[0;34m[\u001b[0m\u001b[0;34m*\u001b[0m\u001b[0mself\u001b[0m\u001b[0;34m.\u001b[0m\u001b[0m_get_lines\u001b[0m\u001b[0;34m(\u001b[0m\u001b[0;34m*\u001b[0m\u001b[0margs\u001b[0m\u001b[0;34m,\u001b[0m \u001b[0mdata\u001b[0m\u001b[0;34m=\u001b[0m\u001b[0mdata\u001b[0m\u001b[0;34m,\u001b[0m \u001b[0;34m**\u001b[0m\u001b[0mkwargs\u001b[0m\u001b[0;34m)\u001b[0m\u001b[0;34m]\u001b[0m\u001b[0;34m\u001b[0m\u001b[0;34m\u001b[0m\u001b[0m\n\u001b[0m\u001b[1;32m   1648\u001b[0m         \u001b[0;32mfor\u001b[0m \u001b[0mline\u001b[0m \u001b[0;32min\u001b[0m \u001b[0mlines\u001b[0m\u001b[0;34m:\u001b[0m\u001b[0;34m\u001b[0m\u001b[0;34m\u001b[0m\u001b[0m\n\u001b[1;32m   1649\u001b[0m             \u001b[0mself\u001b[0m\u001b[0;34m.\u001b[0m\u001b[0madd_line\u001b[0m\u001b[0;34m(\u001b[0m\u001b[0mline\u001b[0m\u001b[0;34m)\u001b[0m\u001b[0;34m\u001b[0m\u001b[0;34m\u001b[0m\u001b[0m\n",
            "\u001b[0;32m/usr/local/lib/python3.8/dist-packages/matplotlib/axes/_base.py\u001b[0m in \u001b[0;36m__call__\u001b[0;34m(self, *args, **kwargs)\u001b[0m\n\u001b[1;32m    214\u001b[0m                 \u001b[0mthis\u001b[0m \u001b[0;34m+=\u001b[0m \u001b[0margs\u001b[0m\u001b[0;34m[\u001b[0m\u001b[0;36m0\u001b[0m\u001b[0;34m]\u001b[0m\u001b[0;34m,\u001b[0m\u001b[0;34m\u001b[0m\u001b[0;34m\u001b[0m\u001b[0m\n\u001b[1;32m    215\u001b[0m                 \u001b[0margs\u001b[0m \u001b[0;34m=\u001b[0m \u001b[0margs\u001b[0m\u001b[0;34m[\u001b[0m\u001b[0;36m1\u001b[0m\u001b[0;34m:\u001b[0m\u001b[0;34m]\u001b[0m\u001b[0;34m\u001b[0m\u001b[0;34m\u001b[0m\u001b[0m\n\u001b[0;32m--> 216\u001b[0;31m             \u001b[0;32myield\u001b[0m \u001b[0;32mfrom\u001b[0m \u001b[0mself\u001b[0m\u001b[0;34m.\u001b[0m\u001b[0m_plot_args\u001b[0m\u001b[0;34m(\u001b[0m\u001b[0mthis\u001b[0m\u001b[0;34m,\u001b[0m \u001b[0mkwargs\u001b[0m\u001b[0;34m)\u001b[0m\u001b[0;34m\u001b[0m\u001b[0;34m\u001b[0m\u001b[0m\n\u001b[0m\u001b[1;32m    217\u001b[0m \u001b[0;34m\u001b[0m\u001b[0m\n\u001b[1;32m    218\u001b[0m     \u001b[0;32mdef\u001b[0m \u001b[0mget_next_color\u001b[0m\u001b[0;34m(\u001b[0m\u001b[0mself\u001b[0m\u001b[0;34m)\u001b[0m\u001b[0;34m:\u001b[0m\u001b[0;34m\u001b[0m\u001b[0;34m\u001b[0m\u001b[0m\n",
            "\u001b[0;32m/usr/local/lib/python3.8/dist-packages/matplotlib/axes/_base.py\u001b[0m in \u001b[0;36m_plot_args\u001b[0;34m(self, tup, kwargs)\u001b[0m\n\u001b[1;32m    340\u001b[0m \u001b[0;34m\u001b[0m\u001b[0m\n\u001b[1;32m    341\u001b[0m         \u001b[0;32mif\u001b[0m \u001b[0mx\u001b[0m\u001b[0;34m.\u001b[0m\u001b[0mshape\u001b[0m\u001b[0;34m[\u001b[0m\u001b[0;36m0\u001b[0m\u001b[0;34m]\u001b[0m \u001b[0;34m!=\u001b[0m \u001b[0my\u001b[0m\u001b[0;34m.\u001b[0m\u001b[0mshape\u001b[0m\u001b[0;34m[\u001b[0m\u001b[0;36m0\u001b[0m\u001b[0;34m]\u001b[0m\u001b[0;34m:\u001b[0m\u001b[0;34m\u001b[0m\u001b[0;34m\u001b[0m\u001b[0m\n\u001b[0;32m--> 342\u001b[0;31m             raise ValueError(f\"x and y must have same first dimension, but \"\n\u001b[0m\u001b[1;32m    343\u001b[0m                              f\"have shapes {x.shape} and {y.shape}\")\n\u001b[1;32m    344\u001b[0m         \u001b[0;32mif\u001b[0m \u001b[0mx\u001b[0m\u001b[0;34m.\u001b[0m\u001b[0mndim\u001b[0m \u001b[0;34m>\u001b[0m \u001b[0;36m2\u001b[0m \u001b[0;32mor\u001b[0m \u001b[0my\u001b[0m\u001b[0;34m.\u001b[0m\u001b[0mndim\u001b[0m \u001b[0;34m>\u001b[0m \u001b[0;36m2\u001b[0m\u001b[0;34m:\u001b[0m\u001b[0;34m\u001b[0m\u001b[0;34m\u001b[0m\u001b[0m\n",
            "\u001b[0;31mValueError\u001b[0m: x and y must have same first dimension, but have shapes (31,) and (30, 1)"
          ]
        },
        {
          "output_type": "display_data",
          "data": {
            "text/plain": [
              "<Figure size 432x288 with 1 Axes>"
            ],
            "image/png": "[encoded data removed]"
          },
          "metadata": {
            "needs_background": "light"
          }
        }
      ]
    },
    {
      "cell_type": "code",
      "source": [],
      "metadata": {
        "id": "kJFYqxSxOgkF"
      },
      "execution_count": null,
      "outputs": []
    }
  ]
}